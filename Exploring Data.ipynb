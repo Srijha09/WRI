{
 "cells": [
  {
   "cell_type": "code",
   "execution_count": 31,
   "metadata": {},
   "outputs": [],
   "source": [
    "import pandas as pd\n",
    "import numpy as np\n",
    "import os\n",
    "import pickle\n",
    "import csv"
   ]
  },
  {
   "cell_type": "markdown",
   "metadata": {},
   "source": [
    "## data folder has the following structure\n",
    "\n",
    "1. gold-standard\n",
    "2. metadata\n",
    "    - matching\n",
    "        - 01.pkl\n",
    "        - 02.pkl\n",
    "        .\n",
    "        .\n",
    "    - variables\n",
    "3. policy\n",
    "4. reference\n",
    "5. texts\n",
    "    - 01\n",
    "        - file.pkl\n",
    "        - file2.pkl\n",
    "        .\n",
    "        .\n",
    "    - 02\n",
    "    - 03\n",
    "    ..\n",
    "6. urls"
   ]
  },
  {
   "cell_type": "markdown",
   "metadata": {},
   "source": [
    "### gold-standard"
   ]
  },
  {
   "cell_type": "code",
   "execution_count": 2,
   "metadata": {},
   "outputs": [
    {
     "data": {
      "text/html": [
       "<div>\n",
       "<style scoped>\n",
       "    .dataframe tbody tr th:only-of-type {\n",
       "        vertical-align: middle;\n",
       "    }\n",
       "\n",
       "    .dataframe tbody tr th {\n",
       "        vertical-align: top;\n",
       "    }\n",
       "\n",
       "    .dataframe thead th {\n",
       "        text-align: right;\n",
       "    }\n",
       "</style>\n",
       "<table border=\"1\" class=\"dataframe\">\n",
       "  <thead>\n",
       "    <tr style=\"text-align: right;\">\n",
       "      <th></th>\n",
       "      <th>ids</th>\n",
       "      <th>month</th>\n",
       "      <th>class</th>\n",
       "      <th>title</th>\n",
       "    </tr>\n",
       "  </thead>\n",
       "  <tbody>\n",
       "    <tr>\n",
       "      <td>0</td>\n",
       "      <td>2055</td>\n",
       "      <td>8</td>\n",
       "      <td>positive</td>\n",
       "      <td>News Alert! Maratha Reservation: Bicycles set ...</td>\n",
       "    </tr>\n",
       "    <tr>\n",
       "      <td>1</td>\n",
       "      <td>5909</td>\n",
       "      <td>8</td>\n",
       "      <td>positive</td>\n",
       "      <td>Post-rains, plantation sector tots up losses</td>\n",
       "    </tr>\n",
       "    <tr>\n",
       "      <td>2</td>\n",
       "      <td>2525</td>\n",
       "      <td>8</td>\n",
       "      <td>positive</td>\n",
       "      <td>Can't free Rajiv Gandhi's killers: Indian Govt...</td>\n",
       "    </tr>\n",
       "    <tr>\n",
       "      <td>3</td>\n",
       "      <td>3175</td>\n",
       "      <td>8</td>\n",
       "      <td>positive</td>\n",
       "      <td>Organic farming policy on the anvil</td>\n",
       "    </tr>\n",
       "    <tr>\n",
       "      <td>4</td>\n",
       "      <td>1164</td>\n",
       "      <td>8</td>\n",
       "      <td>positive</td>\n",
       "      <td>MP: 3 detained after 10 dead cows found in aba...</td>\n",
       "    </tr>\n",
       "  </tbody>\n",
       "</table>\n",
       "</div>"
      ],
      "text/plain": [
       "    ids  month     class                                              title\n",
       "0  2055      8  positive  News Alert! Maratha Reservation: Bicycles set ...\n",
       "1  5909      8  positive       Post-rains, plantation sector tots up losses\n",
       "2  2525      8  positive  Can't free Rajiv Gandhi's killers: Indian Govt...\n",
       "3  3175      8  positive                Organic farming policy on the anvil\n",
       "4  1164      8  positive  MP: 3 detained after 10 dead cows found in aba..."
      ]
     },
     "execution_count": 2,
     "metadata": {},
     "output_type": "execute_result"
    }
   ],
   "source": [
    "filepath = 'data/gold-standard/gold_standard.csv'\n",
    "gs = pd.read_csv(filepath)\n",
    "gs.head()"
   ]
  },
  {
   "cell_type": "markdown",
   "metadata": {},
   "source": [
    "### metadata"
   ]
  },
  {
   "cell_type": "markdown",
   "metadata": {},
   "source": [
    "#### matching"
   ]
  },
  {
   "cell_type": "code",
   "execution_count": 15,
   "metadata": {},
   "outputs": [],
   "source": [
    "filepath = 'data/metadata/matching/01.pkl'\n",
    "matching = pickle.load(open(filepath, \"rb\"))"
   ]
  },
  {
   "cell_type": "code",
   "execution_count": 16,
   "metadata": {},
   "outputs": [
    {
     "name": "stdout",
     "output_type": "stream",
     "text": [
      "<class 'dict'>\n"
     ]
    }
   ],
   "source": [
    "print(type(matching))"
   ]
  },
  {
   "cell_type": "code",
   "execution_count": 19,
   "metadata": {},
   "outputs": [
    {
     "data": {
      "text/plain": [
       "[566, 567, 568, 570, 571]"
      ]
     },
     "execution_count": 19,
     "metadata": {},
     "output_type": "execute_result"
    }
   ],
   "source": [
    "matching[153]"
   ]
  },
  {
   "cell_type": "markdown",
   "metadata": {},
   "source": [
    "#### variables"
   ]
  },
  {
   "cell_type": "code",
   "execution_count": 22,
   "metadata": {},
   "outputs": [
    {
     "data": {
      "text/html": [
       "<div>\n",
       "<style scoped>\n",
       "    .dataframe tbody tr th:only-of-type {\n",
       "        vertical-align: middle;\n",
       "    }\n",
       "\n",
       "    .dataframe tbody tr th {\n",
       "        vertical-align: top;\n",
       "    }\n",
       "\n",
       "    .dataframe thead th {\n",
       "        text-align: right;\n",
       "    }\n",
       "</style>\n",
       "<table border=\"1\" class=\"dataframe\">\n",
       "  <thead>\n",
       "    <tr style=\"text-align: right;\">\n",
       "      <th></th>\n",
       "      <th>Unnamed: 0</th>\n",
       "      <th>index</th>\n",
       "      <th>Unnamed: 0.1</th>\n",
       "      <th>GLOBALEVENTID</th>\n",
       "      <th>SQLDATE</th>\n",
       "      <th>MonthYear</th>\n",
       "      <th>Year</th>\n",
       "      <th>FractionDate</th>\n",
       "      <th>Actor1Code</th>\n",
       "      <th>Actor1Name</th>\n",
       "      <th>...</th>\n",
       "      <th>ActionGeo_CountryCode</th>\n",
       "      <th>ActionGeo_ADM1Code</th>\n",
       "      <th>ActionGeo_ADM2Code</th>\n",
       "      <th>ActionGeo_Lat</th>\n",
       "      <th>ActionGeo_Long</th>\n",
       "      <th>ActionGeo_FeatureID</th>\n",
       "      <th>DATEADDED</th>\n",
       "      <th>SOURCEURL</th>\n",
       "      <th>to_scrape</th>\n",
       "      <th>title</th>\n",
       "    </tr>\n",
       "  </thead>\n",
       "  <tbody>\n",
       "    <tr>\n",
       "      <td>0</td>\n",
       "      <td>0</td>\n",
       "      <td>4</td>\n",
       "      <td>517</td>\n",
       "      <td>727140561</td>\n",
       "      <td>20180201</td>\n",
       "      <td>201802</td>\n",
       "      <td>2018</td>\n",
       "      <td>2018.0849</td>\n",
       "      <td>AGR</td>\n",
       "      <td>FARMER</td>\n",
       "      <td>...</td>\n",
       "      <td>IN</td>\n",
       "      <td>IN02</td>\n",
       "      <td>17568.0</td>\n",
       "      <td>18.0</td>\n",
       "      <td>79.5</td>\n",
       "      <td>-2112824</td>\n",
       "      <td>20180201003000</td>\n",
       "      <td>http://www.tribuneindia.com/news/comment/will-...</td>\n",
       "      <td>http://www.tribuneindia.com/news/comment/will-...</td>\n",
       "      <td>will govt ensure fair prices to farmers</td>\n",
       "    </tr>\n",
       "  </tbody>\n",
       "</table>\n",
       "<p>1 rows × 67 columns</p>\n",
       "</div>"
      ],
      "text/plain": [
       "   Unnamed: 0  index  Unnamed: 0.1  GLOBALEVENTID   SQLDATE  MonthYear  Year  \\\n",
       "0           0      4           517      727140561  20180201     201802  2018   \n",
       "\n",
       "   FractionDate Actor1Code Actor1Name  ... ActionGeo_CountryCode  \\\n",
       "0     2018.0849        AGR     FARMER  ...                    IN   \n",
       "\n",
       "  ActionGeo_ADM1Code ActionGeo_ADM2Code ActionGeo_Lat ActionGeo_Long  \\\n",
       "0               IN02            17568.0          18.0           79.5   \n",
       "\n",
       "  ActionGeo_FeatureID       DATEADDED  \\\n",
       "0            -2112824  20180201003000   \n",
       "\n",
       "                                           SOURCEURL  \\\n",
       "0  http://www.tribuneindia.com/news/comment/will-...   \n",
       "\n",
       "                                           to_scrape  \\\n",
       "0  http://www.tribuneindia.com/news/comment/will-...   \n",
       "\n",
       "                                     title  \n",
       "0  will govt ensure fair prices to farmers  \n",
       "\n",
       "[1 rows x 67 columns]"
      ]
     },
     "execution_count": 22,
     "metadata": {},
     "output_type": "execute_result"
    }
   ],
   "source": [
    "filepath = 'data/metadata/variables/02.csv'\n",
    "variables = pd.read_csv(filepath)\n",
    "variables.head(1)"
   ]
  },
  {
   "cell_type": "code",
   "execution_count": 24,
   "metadata": {},
   "outputs": [
    {
     "data": {
      "text/plain": [
       "Index(['Unnamed: 0', 'index', 'Unnamed: 0.1', 'GLOBALEVENTID', 'SQLDATE',\n",
       "       'MonthYear', 'Year', 'FractionDate', 'Actor1Code', 'Actor1Name',\n",
       "       'Actor1CountryCode', 'Actor1KnownGroupCode', 'Actor1EthnicCode',\n",
       "       'Actor1Religion1Code', 'Actor1Religion2Code', 'Actor1Type1Code',\n",
       "       'Actor1Type2Code', 'Actor1Type3Code', 'Actor2Code', 'Actor2Name',\n",
       "       'Actor2CountryCode', 'Actor2KnownGroupCode', 'Actor2EthnicCode',\n",
       "       'Actor2Religion1Code', 'Actor2Religion2Code', 'Actor2Type1Code',\n",
       "       'Actor2Type2Code', 'Actor2Type3Code', 'IsRootEvent', 'EventCode',\n",
       "       'CAMEOCodeDescription', 'EventBaseCode', 'EventRootCode', 'QuadClass',\n",
       "       'GoldsteinScale', 'NumMentions', 'NumSources', 'NumArticles', 'AvgTone',\n",
       "       'Actor1Geo_Type', 'Actor1Geo_FullName', 'Actor1Geo_CountryCode',\n",
       "       'Actor1Geo_ADM1Code', 'Actor1Geo_ADM2Code', 'Actor1Geo_Lat',\n",
       "       'Actor1Geo_Long', 'Actor1Geo_FeatureID', 'Actor2Geo_Type',\n",
       "       'Actor2Geo_FullName', 'Actor2Geo_CountryCode', 'Actor2Geo_ADM1Code',\n",
       "       'Actor2Geo_ADM2Code', 'Actor2Geo_Lat', 'Actor2Geo_Long',\n",
       "       'Actor2Geo_FeatureID', 'ActionGeo_Type', 'ActionGeo_FullName',\n",
       "       'ActionGeo_CountryCode', 'ActionGeo_ADM1Code', 'ActionGeo_ADM2Code',\n",
       "       'ActionGeo_Lat', 'ActionGeo_Long', 'ActionGeo_FeatureID', 'DATEADDED',\n",
       "       'SOURCEURL', 'to_scrape', 'title'],\n",
       "      dtype='object')"
      ]
     },
     "execution_count": 24,
     "metadata": {},
     "output_type": "execute_result"
    }
   ],
   "source": [
    "variables.columns"
   ]
  },
  {
   "cell_type": "code",
   "execution_count": 28,
   "metadata": {},
   "outputs": [
    {
     "data": {
      "text/plain": [
       "IND       3862\n",
       "GOV       3132\n",
       "COP       1522\n",
       "CVL        958\n",
       "EDU        852\n",
       "          ... \n",
       "PAKOPP       1\n",
       "EURGOV       1\n",
       "HLHLAB       1\n",
       "FINBUS       1\n",
       "MLT          1\n",
       "Name: Actor1Code, Length: 472, dtype: int64"
      ]
     },
     "execution_count": 28,
     "metadata": {},
     "output_type": "execute_result"
    }
   ],
   "source": [
    "variables['Actor1Code'].value_counts()"
   ]
  },
  {
   "cell_type": "markdown",
   "metadata": {},
   "source": [
    "### Policy "
   ]
  },
  {
   "cell_type": "code",
   "execution_count": 32,
   "metadata": {},
   "outputs": [],
   "source": [
    "# Left for now"
   ]
  },
  {
   "cell_type": "markdown",
   "metadata": {},
   "source": [
    "### reference"
   ]
  },
  {
   "cell_type": "code",
   "execution_count": 34,
   "metadata": {},
   "outputs": [
    {
     "data": {
      "text/html": [
       "<div>\n",
       "<style scoped>\n",
       "    .dataframe tbody tr th:only-of-type {\n",
       "        vertical-align: middle;\n",
       "    }\n",
       "\n",
       "    .dataframe tbody tr th {\n",
       "        vertical-align: top;\n",
       "    }\n",
       "\n",
       "    .dataframe thead th {\n",
       "        text-align: right;\n",
       "    }\n",
       "</style>\n",
       "<table border=\"1\" class=\"dataframe\">\n",
       "  <thead>\n",
       "    <tr style=\"text-align: right;\">\n",
       "      <th></th>\n",
       "      <th>data_id</th>\n",
       "      <th>iso</th>\n",
       "      <th>event_id_cnty</th>\n",
       "      <th>event_id_no_cnty</th>\n",
       "      <th>event_date</th>\n",
       "      <th>year</th>\n",
       "      <th>time_precision</th>\n",
       "      <th>event_type</th>\n",
       "      <th>sub_event_type</th>\n",
       "      <th>actor1</th>\n",
       "      <th>...</th>\n",
       "      <th>location</th>\n",
       "      <th>latitude</th>\n",
       "      <th>longitude</th>\n",
       "      <th>geo_precision</th>\n",
       "      <th>source</th>\n",
       "      <th>source_scale</th>\n",
       "      <th>notes</th>\n",
       "      <th>fatalities</th>\n",
       "      <th>timestamp</th>\n",
       "      <th>iso3</th>\n",
       "    </tr>\n",
       "  </thead>\n",
       "  <tbody>\n",
       "    <tr>\n",
       "      <td>0</td>\n",
       "      <td>5478505</td>\n",
       "      <td>356</td>\n",
       "      <td>IND25478</td>\n",
       "      <td>25478</td>\n",
       "      <td>31 December 2017</td>\n",
       "      <td>2017</td>\n",
       "      <td>1</td>\n",
       "      <td>Protests</td>\n",
       "      <td>Peaceful protest</td>\n",
       "      <td>Protesters (India)</td>\n",
       "      <td>...</td>\n",
       "      <td>Agartala</td>\n",
       "      <td>23.8330</td>\n",
       "      <td>91.2864</td>\n",
       "      <td>1</td>\n",
       "      <td>Assam Tribune</td>\n",
       "      <td>Subnational</td>\n",
       "      <td>CPI(M) staged an election rally in Agartala on...</td>\n",
       "      <td>0</td>\n",
       "      <td>1561474143</td>\n",
       "      <td>IND</td>\n",
       "    </tr>\n",
       "    <tr>\n",
       "      <td>1</td>\n",
       "      <td>5478506</td>\n",
       "      <td>356</td>\n",
       "      <td>IND25479</td>\n",
       "      <td>25479</td>\n",
       "      <td>31 December 2017</td>\n",
       "      <td>2017</td>\n",
       "      <td>1</td>\n",
       "      <td>Protests</td>\n",
       "      <td>Peaceful protest</td>\n",
       "      <td>Protesters (India)</td>\n",
       "      <td>...</td>\n",
       "      <td>Bhubaneswar</td>\n",
       "      <td>20.2724</td>\n",
       "      <td>85.8338</td>\n",
       "      <td>1</td>\n",
       "      <td>Times of India</td>\n",
       "      <td>National</td>\n",
       "      <td>On December 31, in Bhubaneswar, the youth and ...</td>\n",
       "      <td>0</td>\n",
       "      <td>1561474143</td>\n",
       "      <td>IND</td>\n",
       "    </tr>\n",
       "  </tbody>\n",
       "</table>\n",
       "<p>2 rows × 31 columns</p>\n",
       "</div>"
      ],
      "text/plain": [
       "   data_id  iso event_id_cnty  event_id_no_cnty        event_date  year  \\\n",
       "0  5478505  356      IND25478             25478  31 December 2017  2017   \n",
       "1  5478506  356      IND25479             25479  31 December 2017  2017   \n",
       "\n",
       "   time_precision event_type    sub_event_type              actor1  ...  \\\n",
       "0               1   Protests  Peaceful protest  Protesters (India)  ...   \n",
       "1               1   Protests  Peaceful protest  Protesters (India)  ...   \n",
       "\n",
       "      location  latitude longitude geo_precision          source  \\\n",
       "0     Agartala   23.8330   91.2864             1   Assam Tribune   \n",
       "1  Bhubaneswar   20.2724   85.8338             1  Times of India   \n",
       "\n",
       "   source_scale                                              notes fatalities  \\\n",
       "0   Subnational  CPI(M) staged an election rally in Agartala on...          0   \n",
       "1      National  On December 31, in Bhubaneswar, the youth and ...          0   \n",
       "\n",
       "    timestamp iso3  \n",
       "0  1561474143  IND  \n",
       "1  1561474143  IND  \n",
       "\n",
       "[2 rows x 31 columns]"
      ]
     },
     "execution_count": 34,
     "metadata": {},
     "output_type": "execute_result"
    }
   ],
   "source": [
    "filepath = 'data/reference/acled_india_2017.csv'\n",
    "acled = pd.read_csv(filepath)\n",
    "acled.head(2)"
   ]
  },
  {
   "cell_type": "code",
   "execution_count": 35,
   "metadata": {},
   "outputs": [
    {
     "data": {
      "text/plain": [
       "Index(['data_id', 'iso', 'event_id_cnty', 'event_id_no_cnty', 'event_date',\n",
       "       'year', 'time_precision', 'event_type', 'sub_event_type', 'actor1',\n",
       "       'assoc_actor_1', 'inter1', 'actor2', 'assoc_actor_2', 'inter2',\n",
       "       'interaction', 'region', 'country', 'admin1', 'admin2', 'admin3',\n",
       "       'location', 'latitude', 'longitude', 'geo_precision', 'source',\n",
       "       'source_scale', 'notes', 'fatalities', 'timestamp', 'iso3'],\n",
       "      dtype='object')"
      ]
     },
     "execution_count": 35,
     "metadata": {},
     "output_type": "execute_result"
    }
   ],
   "source": [
    "acled.columns"
   ]
  },
  {
   "cell_type": "code",
   "execution_count": 42,
   "metadata": {},
   "outputs": [
    {
     "data": {
      "text/plain": [
       "'25 villagers of Gohri Mafi situated on the outskirts of Rajaji Tiger Reserve in Dehradun district, Uttarakhand launched an ongoing sit-in protest assumed on Dec 31, demanding a flood control wall to protect their village from the Song river.'"
      ]
     },
     "execution_count": 42,
     "metadata": {},
     "output_type": "execute_result"
    }
   ],
   "source": [
    "acled['notes'][3]"
   ]
  },
  {
   "cell_type": "markdown",
   "metadata": {},
   "source": [
    "### texts "
   ]
  },
  {
   "cell_type": "code",
   "execution_count": 66,
   "metadata": {},
   "outputs": [],
   "source": [
    "# Texts basically contains all the news article"
   ]
  },
  {
   "cell_type": "code",
   "execution_count": 47,
   "metadata": {},
   "outputs": [],
   "source": [
    "from newsplease import NewsPlease"
   ]
  },
  {
   "cell_type": "code",
   "execution_count": 48,
   "metadata": {},
   "outputs": [],
   "source": [
    "filepath = 'data/texts/08/02733.pkl'\n",
    "text = pickle.load(open(filepath, 'rb'))"
   ]
  },
  {
   "cell_type": "code",
   "execution_count": 65,
   "metadata": {},
   "outputs": [
    {
     "data": {
      "text/plain": [
       "<bound method NewsArticle.get_dict of <NewsArticle.NewsArticle object at 0x1288f5f60>>"
      ]
     },
     "execution_count": 65,
     "metadata": {},
     "output_type": "execute_result"
    }
   ],
   "source": [
    "text.get_dict"
   ]
  },
  {
   "cell_type": "code",
   "execution_count": 63,
   "metadata": {},
   "outputs": [
    {
     "name": "stdout",
     "output_type": "stream",
     "text": [
      "authors -  []\n",
      "date_download -  2019-08-30 11:35:29\n",
      "date_modify -  None\n",
      "date_publish -  2018-08-11 18:24:06\n",
      "description -  Read more about Ericsson opens technical training skill centre for youth in UP on Business Standard. Aiming to train the youth in mobile hardware repair and technical training in computers and peripherals, Swedish telecommunications company Ericsson on Saturday opened a skill centre in partnership with Electronics Sector Skills Council of India\n",
      "filename -  https%3A%2F%2Fwww.business-standard.com%2Farticle%2Fnews-ians%2Fericsson-opens-technical-training-skill-centre-for-youth-in-up-118081100728_1.html.json\n",
      "get_dict -  <bound method NewsArticle.get_dict of <NewsArticle.NewsArticle object at 0x1288f5f60>>\n",
      "get_serializable_dict -  <bound method NewsArticle.get_serializable_dict of <NewsArticle.NewsArticle object at 0x1288f5f60>>\n",
      "image_url -  https://bsmedia.business-standard.com/_media/bs/img/article/default/1180811/full-118081100728.jpg\n",
      "language -  en\n",
      "localpath -  None\n",
      "source_domain -  www.business-standard.com\n",
      "text -  Aiming to train the youth in mobile hardware repair and technical training in computers and peripherals, Swedish telecommunications company Ericsson on Saturday opened a skill centre in partnership with Electronics Sector Skills Council of India (ESSCI) in Uttar Pradesh's Ghazipur.\n",
      "\"I would like to congratulate Ericsson for launching its community building initiatives in Ghazipur today, namely the 'Skill Centre' and the 'Ghazipur Mobile Vaani'.\n",
      "\"The 'Skill Centre' will impart skill sets to youth which will make them employable or self-employed,\" Minister of State for Communications, Manoj Sinha said in a statement released here.\n",
      "The company also launched the \"Ghazipur Mobile Vaani\", a district-level citizen communication and engagement platform, which will make the people aware about government's welfare schemes and help the company understand their grievances and feedback.\n",
      "According to the company, the Interactive Voice Response (IVR)-based platform enables citizens to give a missed call on 9266300111 to get information on various initiatives taken by the government.\n",
      "The skill centre has been designed for end-to-end engagement with Ghazipur youth focused on training and skill-building as well as providing placement assistance, guidance and support for micro-entrepreneurship.\n",
      "\"At Ericsson, we believe in technology for good, wherein we use communications technology to make a difference in the lives of communities around the world,\" said Nunzio Mirtillo, Head of Ericsson southeast Asia, Oceania and India.\n",
      "\"We have set up the 'Ericsson Skill Centre' in Ghazipur which will not only provide mobile repair and computer skills, but also provide placement assistance and support micro-entrepreneurship,\" he added.\n",
      "After completion of the three-month training, candidates will be assessed and certified by ESSCI and those who qualify will be supported for placement as well as entrepreneurship.\n",
      "--IANS\n",
      "ksc/mag/vm\n",
      "(This story has not been edited by Business Standard staff and is auto-generated from a syndicated feed.)\n",
      "title -  Ericsson opens technical training skill centre for youth in UP\n",
      "title_page -  None\n",
      "title_rss -  None\n",
      "url -  https://www.business-standard.com/article/news-ians/ericsson-opens-technical-training-skill-centre-for-youth-in-up-118081100728_1.html\n"
     ]
    }
   ],
   "source": [
    "print('authors - ',text.authors)\n",
    "print('date_download - ',text.date_download)\n",
    "print('date_modify - ' ,text.date_modify)\n",
    "print('date_publish - ' ,text.date_publish)\n",
    "print('description - ' ,text.description)\n",
    "# print(text.end)\n",
    "# print(text.file)\n",
    "print('filename - ' ,text.filename)\n",
    "# print(text.flush)\n",
    "print('get_dict - ' , text.get_dict)\n",
    "print('get_serializable_dict - ' , text.get_serializable_dict)\n",
    "print('image_url - ' , text.image_url)\n",
    "print('language - ',text.language)\n",
    "print('localpath - ',text.localpath)\n",
    "# print(text.sep)\n",
    "print('source_domain - ',text.source_domain)\n",
    "print('text - ',text.text)\n",
    "print('title - ',text.title)\n",
    "print('title_page - ',text.title_page)\n",
    "print('title_rss - ',text.title_rss)\n",
    "print('url - ',text.url)"
   ]
  },
  {
   "cell_type": "code",
   "execution_count": 56,
   "metadata": {},
   "outputs": [],
   "source": [
    "# One way to get articles corresponding to gold-standards are\n",
    "\n",
    "def load_obj(month, idx):\n",
    "    month = str(month).zfill(2)\n",
    "    idx = str(idx).zfill(5)\n",
    "    with open(\"data/texts/{}/{}.pkl\".format(month, idx), \"rb\") as f:\n",
    "        return pickle.load(f)\n",
    "    \n",
    "def load_dict(month):\n",
    "    month = str(month).zfill(2)\n",
    "    with open(\"data/metadata/matching/{}.pkl\".format(month), \"rb\") as f:\n",
    "        return pickle.load(f)\n",
    "    \n",
    "gs = pd.read_csv('data/gold-standard/gold_standard.csv')\n",
    "\n",
    "gs_articles = {}\n",
    "\n",
    "for i in range(len(gs)):\n",
    "    article = load_obj(gs['month'][i], gs['ids'][i])\n",
    "    gs_articles[i] = article"
   ]
  },
  {
   "cell_type": "code",
   "execution_count": 57,
   "metadata": {},
   "outputs": [
    {
     "name": "stdout",
     "output_type": "stream",
     "text": [
      "0\n",
      "1\n",
      "2\n",
      "3\n",
      "4\n",
      "5\n",
      "6\n",
      "7\n",
      "8\n",
      "9\n",
      "10\n",
      "11\n",
      "12\n",
      "13\n",
      "14\n",
      "15\n",
      "16\n",
      "17\n",
      "18\n",
      "19\n",
      "20\n",
      "21\n",
      "22\n",
      "23\n",
      "24\n",
      "25\n",
      "26\n",
      "27\n",
      "28\n",
      "29\n",
      "30\n",
      "31\n",
      "32\n",
      "33\n",
      "34\n",
      "35\n",
      "36\n",
      "37\n",
      "38\n",
      "39\n",
      "40\n",
      "41\n",
      "42\n",
      "43\n",
      "44\n",
      "45\n",
      "46\n",
      "47\n",
      "48\n",
      "49\n",
      "50\n",
      "51\n",
      "52\n",
      "53\n",
      "54\n",
      "55\n",
      "56\n",
      "57\n",
      "58\n",
      "59\n",
      "60\n",
      "61\n",
      "62\n",
      "63\n",
      "64\n",
      "65\n",
      "66\n",
      "67\n",
      "68\n",
      "69\n",
      "70\n",
      "71\n",
      "72\n",
      "73\n",
      "74\n",
      "75\n",
      "76\n",
      "77\n",
      "78\n",
      "79\n",
      "80\n",
      "81\n",
      "82\n",
      "83\n",
      "84\n",
      "85\n",
      "86\n",
      "87\n",
      "88\n",
      "89\n",
      "90\n",
      "91\n",
      "92\n",
      "93\n",
      "94\n",
      "95\n",
      "96\n",
      "97\n",
      "98\n",
      "99\n",
      "100\n",
      "101\n",
      "102\n",
      "103\n",
      "104\n",
      "105\n",
      "106\n",
      "107\n",
      "108\n",
      "109\n",
      "110\n",
      "111\n",
      "112\n",
      "113\n",
      "114\n",
      "115\n",
      "116\n",
      "117\n",
      "118\n",
      "119\n",
      "120\n",
      "121\n",
      "122\n",
      "123\n",
      "124\n",
      "125\n",
      "126\n",
      "127\n",
      "128\n",
      "129\n",
      "130\n",
      "131\n",
      "132\n",
      "133\n",
      "134\n",
      "135\n",
      "136\n",
      "137\n",
      "138\n",
      "139\n",
      "140\n",
      "141\n",
      "142\n",
      "143\n",
      "144\n",
      "145\n",
      "146\n",
      "147\n",
      "148\n",
      "149\n",
      "150\n",
      "151\n",
      "152\n",
      "153\n",
      "154\n",
      "155\n",
      "156\n",
      "157\n",
      "158\n",
      "159\n",
      "160\n",
      "161\n",
      "162\n",
      "163\n",
      "164\n",
      "165\n",
      "166\n",
      "167\n",
      "168\n",
      "169\n",
      "170\n",
      "171\n",
      "172\n",
      "173\n",
      "174\n",
      "175\n",
      "176\n",
      "177\n",
      "178\n",
      "179\n",
      "180\n",
      "181\n",
      "182\n",
      "183\n",
      "184\n",
      "185\n",
      "186\n",
      "187\n",
      "188\n",
      "189\n",
      "190\n",
      "191\n",
      "192\n",
      "193\n",
      "194\n",
      "195\n",
      "196\n",
      "197\n",
      "198\n",
      "199\n",
      "200\n",
      "201\n",
      "202\n",
      "203\n",
      "204\n",
      "205\n",
      "206\n",
      "207\n"
     ]
    }
   ],
   "source": [
    "# key - is the id of the articles\n",
    "# value - is the article, which has attribute like - \n",
    "for key, value in gs_articles.items():\n",
    "    print(key)"
   ]
  },
  {
   "cell_type": "code",
   "execution_count": null,
   "metadata": {},
   "outputs": [],
   "source": []
  }
 ],
 "metadata": {
  "kernelspec": {
   "display_name": "Python 3",
   "language": "python",
   "name": "python3"
  },
  "language_info": {
   "codemirror_mode": {
    "name": "ipython",
    "version": 3
   },
   "file_extension": ".py",
   "mimetype": "text/x-python",
   "name": "python",
   "nbconvert_exporter": "python",
   "pygments_lexer": "ipython3",
   "version": "3.6.6"
  }
 },
 "nbformat": 4,
 "nbformat_minor": 2
}
