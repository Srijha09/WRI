{
 "cells": [
  {
   "cell_type": "markdown",
   "metadata": {},
   "source": [
    "## Load gold standard data"
   ]
  },
  {
   "cell_type": "code",
   "execution_count": 1,
   "metadata": {},
   "outputs": [],
   "source": [
    "import pickle\n",
    "import pandas as pd\n",
    "from newsplease import NewsPlease\n",
    "\n",
    "def load_obj(month, idx):\n",
    "    month = str(month).zfill(2)\n",
    "    idx = str(idx).zfill(5)\n",
    "    with open(\"../data/texts/{}/{}.pkl\".format(month, idx), \"rb\") as f:\n",
    "        return pickle.load(f)\n",
    "    \n",
    "def load_dict(month):\n",
    "    month = str(month).zfill(2)\n",
    "    with open(\"../data/metadata/matching/{}.pkl\".format(month), \"rb\") as f:\n",
    "        return pickle.load(f)"
   ]
  },
  {
   "cell_type": "code",
   "execution_count": 2,
   "metadata": {},
   "outputs": [],
   "source": [
    "gs = pd.read_csv('../data/gold-standard/gold_standard.csv')\n",
    "\n",
    "gs_articles = {}\n",
    "\n",
    "for i in range(len(gs)):\n",
    "    article = load_obj(gs['month'][i], gs['ids'][i])\n",
    "    gs_articles[i] = article"
   ]
  },
  {
   "cell_type": "code",
   "execution_count": 4,
   "metadata": {},
   "outputs": [
    {
     "data": {
      "text/plain": [
       "<NewsArticle.NewsArticle at 0x10e199748>"
      ]
     },
     "execution_count": 4,
     "metadata": {},
     "output_type": "execute_result"
    }
   ],
   "source": [
    "gs_articles[0]"
   ]
  },
  {
   "cell_type": "markdown",
   "metadata": {},
   "source": [
    "## Load metadata for one gold standard"
   ]
  },
  {
   "cell_type": "code",
   "execution_count": 9,
   "metadata": {},
   "outputs": [
    {
     "name": "stdout",
     "output_type": "stream",
     "text": [
      "This sample matches these rows in 08.csv: [21567, 21568]\n"
     ]
    },
    {
     "name": "stderr",
     "output_type": "stream",
     "text": [
      "/Users/arpitjain/anaconda3/envs/tm_env/lib/python3.6/site-packages/IPython/core/interactiveshell.py:3249: DtypeWarning: Columns (14,24,27,51) have mixed types. Specify dtype option on import or set low_memory=False.\n",
      "  if (await self.run_code(code, result,  async_=asy)):\n"
     ]
    },
    {
     "data": {
      "text/html": [
       "<div>\n",
       "<style scoped>\n",
       "    .dataframe tbody tr th:only-of-type {\n",
       "        vertical-align: middle;\n",
       "    }\n",
       "\n",
       "    .dataframe tbody tr th {\n",
       "        vertical-align: top;\n",
       "    }\n",
       "\n",
       "    .dataframe thead th {\n",
       "        text-align: right;\n",
       "    }\n",
       "</style>\n",
       "<table border=\"1\" class=\"dataframe\">\n",
       "  <thead>\n",
       "    <tr style=\"text-align: right;\">\n",
       "      <th></th>\n",
       "      <th>Unnamed: 0</th>\n",
       "      <th>index</th>\n",
       "      <th>Unnamed: 0.1</th>\n",
       "      <th>GLOBALEVENTID</th>\n",
       "      <th>SQLDATE</th>\n",
       "      <th>MonthYear</th>\n",
       "      <th>Year</th>\n",
       "      <th>FractionDate</th>\n",
       "      <th>Actor1Code</th>\n",
       "      <th>Actor1Name</th>\n",
       "      <th>...</th>\n",
       "      <th>ActionGeo_CountryCode</th>\n",
       "      <th>ActionGeo_ADM1Code</th>\n",
       "      <th>ActionGeo_ADM2Code</th>\n",
       "      <th>ActionGeo_Lat</th>\n",
       "      <th>ActionGeo_Long</th>\n",
       "      <th>ActionGeo_FeatureID</th>\n",
       "      <th>DATEADDED</th>\n",
       "      <th>SOURCEURL</th>\n",
       "      <th>to_scrape</th>\n",
       "      <th>title</th>\n",
       "    </tr>\n",
       "  </thead>\n",
       "  <tbody>\n",
       "    <tr>\n",
       "      <td>21567</td>\n",
       "      <td>21567</td>\n",
       "      <td>3964</td>\n",
       "      <td>100637</td>\n",
       "      <td>782166769</td>\n",
       "      <td>20180826</td>\n",
       "      <td>201808</td>\n",
       "      <td>2018</td>\n",
       "      <td>2018.6466</td>\n",
       "      <td>GOV</td>\n",
       "      <td>PRESIDENT</td>\n",
       "      <td>...</td>\n",
       "      <td>IN</td>\n",
       "      <td>IN13</td>\n",
       "      <td>17699.0</td>\n",
       "      <td>10.0</td>\n",
       "      <td>76.5</td>\n",
       "      <td>-2100307</td>\n",
       "      <td>20180826190000</td>\n",
       "      <td>https://www.thehindu.com/business/post-rains-p...</td>\n",
       "      <td>https://www.thehindu.com/business/post-rains-p...</td>\n",
       "      <td>post rains plantation sector tots up losses</td>\n",
       "    </tr>\n",
       "    <tr>\n",
       "      <td>21568</td>\n",
       "      <td>21568</td>\n",
       "      <td>3965</td>\n",
       "      <td>100638</td>\n",
       "      <td>782166770</td>\n",
       "      <td>20180826</td>\n",
       "      <td>201808</td>\n",
       "      <td>2018</td>\n",
       "      <td>2018.6466</td>\n",
       "      <td>GOV</td>\n",
       "      <td>PRESIDENT</td>\n",
       "      <td>...</td>\n",
       "      <td>IN</td>\n",
       "      <td>IN13</td>\n",
       "      <td>17699.0</td>\n",
       "      <td>10.0</td>\n",
       "      <td>76.5</td>\n",
       "      <td>-2100307</td>\n",
       "      <td>20180826190000</td>\n",
       "      <td>https://www.thehindu.com/business/post-rains-p...</td>\n",
       "      <td>https://www.thehindu.com/business/post-rains-p...</td>\n",
       "      <td>post rains plantation sector tots up losses</td>\n",
       "    </tr>\n",
       "  </tbody>\n",
       "</table>\n",
       "<p>2 rows × 67 columns</p>\n",
       "</div>"
      ],
      "text/plain": [
       "       Unnamed: 0  index  Unnamed: 0.1  GLOBALEVENTID   SQLDATE  MonthYear  \\\n",
       "21567       21567   3964        100637      782166769  20180826     201808   \n",
       "21568       21568   3965        100638      782166770  20180826     201808   \n",
       "\n",
       "       Year  FractionDate Actor1Code Actor1Name  ... ActionGeo_CountryCode  \\\n",
       "21567  2018     2018.6466        GOV  PRESIDENT  ...                    IN   \n",
       "21568  2018     2018.6466        GOV  PRESIDENT  ...                    IN   \n",
       "\n",
       "      ActionGeo_ADM1Code ActionGeo_ADM2Code ActionGeo_Lat ActionGeo_Long  \\\n",
       "21567               IN13            17699.0          10.0           76.5   \n",
       "21568               IN13            17699.0          10.0           76.5   \n",
       "\n",
       "      ActionGeo_FeatureID       DATEADDED  \\\n",
       "21567            -2100307  20180826190000   \n",
       "21568            -2100307  20180826190000   \n",
       "\n",
       "                                               SOURCEURL  \\\n",
       "21567  https://www.thehindu.com/business/post-rains-p...   \n",
       "21568  https://www.thehindu.com/business/post-rains-p...   \n",
       "\n",
       "                                               to_scrape  \\\n",
       "21567  https://www.thehindu.com/business/post-rains-p...   \n",
       "21568  https://www.thehindu.com/business/post-rains-p...   \n",
       "\n",
       "                                             title  \n",
       "21567  post rains plantation sector tots up losses  \n",
       "21568  post rains plantation sector tots up losses  \n",
       "\n",
       "[2 rows x 67 columns]"
      ]
     },
     "execution_count": 9,
     "metadata": {},
     "output_type": "execute_result"
    }
   ],
   "source": [
    "gs = pd.read_csv('../data/gold-standard/gold_standard.csv')\n",
    "gs_sample = gs.iloc[1]\n",
    "\n",
    "def match_metadata(gs_sample):\n",
    "    month = str(gs_sample['month']).zfill(2)\n",
    "    idx = gs_sample['ids']\n",
    "    matching_dictionary = load_dict(month)\n",
    "    print('This sample matches these rows in {}.csv: {}'.format(month, matching_dictionary[idx]))\n",
    "    df = pd.read_csv(\"../data/metadata/variables/{}.csv\".format(month))\n",
    "    return df.iloc[matching_dictionary[idx]]\n",
    "    \n",
    "match_metadata(gs_sample)"
   ]
  },
  {
   "cell_type": "code",
   "execution_count": null,
   "metadata": {},
   "outputs": [],
   "source": []
  }
 ],
 "metadata": {
  "kernelspec": {
   "display_name": "Python 3",
   "language": "python",
   "name": "python3"
  },
  "language_info": {
   "codemirror_mode": {
    "name": "ipython",
    "version": 3
   },
   "file_extension": ".py",
   "mimetype": "text/x-python",
   "name": "python",
   "nbconvert_exporter": "python",
   "pygments_lexer": "ipython3",
   "version": "3.6.6"
  }
 },
 "nbformat": 4,
 "nbformat_minor": 2
}
