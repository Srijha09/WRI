{
 "cells": [
  {
   "cell_type": "code",
   "execution_count": 1,
   "metadata": {},
   "outputs": [
    {
     "name": "stdout",
     "output_type": "stream",
     "text": [
      "------------------------------------------------------\n",
      "- Imports Done\n"
     ]
    }
   ],
   "source": [
    "from preprocess.arpit_v2 import *\n",
    "from preprocess.preprocess_v2 import *\n",
    "from preprocess.preprocess_v2 import preprocess\n",
    "import os\n",
    "import inspect\n",
    "import time\n",
    "import pyLDAvis\n",
    "import pyLDAvis.gensim\n",
    "import matplotlib.pyplot as plt\n",
    "import warnings\n",
    "warnings.filterwarnings('ignore')\n",
    "import pickle\n",
    "from models.LDA_multi_level import lda_model_multi_level\n",
    "from models.LDA_single_level import lda_model_single_level\n",
    "from models.lda_mallet import lda_mallet\n",
    "print('------------------------------------------------------')\n",
    "print('- Imports Done')"
   ]
  },
  {
   "cell_type": "markdown",
   "metadata": {},
   "source": [
    "## LDA on gold_standard.csv - Title "
   ]
  },
  {
   "cell_type": "code",
   "execution_count": 2,
   "metadata": {},
   "outputs": [
    {
     "name": "stdout",
     "output_type": "stream",
     "text": [
      "positive    208\n",
      "Name: class, dtype: int64\n",
      "---\n",
      "12    79\n",
      "10    46\n",
      "11    43\n",
      "9     20\n",
      "8     20\n",
      "Name: month, dtype: int64\n"
     ]
    }
   ],
   "source": [
    "data_file_string = 'gold_standard.csv'\n",
    "data_file = os.path.join(os.path.dirname(os.path.abspath(inspect.getfile(inspect.currentframe()))),'data',data_file_string)\n",
    "gold_standard = pd.read_csv(data_file)\n",
    "\n",
    "print(gold_standard['class'].value_counts())\n",
    "print('---')\n",
    "print(gold_standard['month'].value_counts())"
   ]
  },
  {
   "cell_type": "code",
   "execution_count": 3,
   "metadata": {},
   "outputs": [
    {
     "data": {
      "text/html": [
       "<div>\n",
       "<style scoped>\n",
       "    .dataframe tbody tr th:only-of-type {\n",
       "        vertical-align: middle;\n",
       "    }\n",
       "\n",
       "    .dataframe tbody tr th {\n",
       "        vertical-align: top;\n",
       "    }\n",
       "\n",
       "    .dataframe thead th {\n",
       "        text-align: right;\n",
       "    }\n",
       "</style>\n",
       "<table border=\"1\" class=\"dataframe\">\n",
       "  <thead>\n",
       "    <tr style=\"text-align: right;\">\n",
       "      <th></th>\n",
       "      <th>ids</th>\n",
       "      <th>month</th>\n",
       "      <th>class</th>\n",
       "      <th>title</th>\n",
       "    </tr>\n",
       "  </thead>\n",
       "  <tbody>\n",
       "    <tr>\n",
       "      <td>0</td>\n",
       "      <td>2055</td>\n",
       "      <td>8</td>\n",
       "      <td>positive</td>\n",
       "      <td>News Alert! Maratha Reservation: Bicycles set ...</td>\n",
       "    </tr>\n",
       "    <tr>\n",
       "      <td>1</td>\n",
       "      <td>5909</td>\n",
       "      <td>8</td>\n",
       "      <td>positive</td>\n",
       "      <td>Post-rains, plantation sector tots up losses</td>\n",
       "    </tr>\n",
       "    <tr>\n",
       "      <td>2</td>\n",
       "      <td>2525</td>\n",
       "      <td>8</td>\n",
       "      <td>positive</td>\n",
       "      <td>Can't free Rajiv Gandhi's killers: Indian Govt...</td>\n",
       "    </tr>\n",
       "    <tr>\n",
       "      <td>3</td>\n",
       "      <td>3175</td>\n",
       "      <td>8</td>\n",
       "      <td>positive</td>\n",
       "      <td>Organic farming policy on the anvil</td>\n",
       "    </tr>\n",
       "    <tr>\n",
       "      <td>4</td>\n",
       "      <td>1164</td>\n",
       "      <td>8</td>\n",
       "      <td>positive</td>\n",
       "      <td>MP: 3 detained after 10 dead cows found in aba...</td>\n",
       "    </tr>\n",
       "  </tbody>\n",
       "</table>\n",
       "</div>"
      ],
      "text/plain": [
       "    ids  month     class                                              title\n",
       "0  2055      8  positive  News Alert! Maratha Reservation: Bicycles set ...\n",
       "1  5909      8  positive       Post-rains, plantation sector tots up losses\n",
       "2  2525      8  positive  Can't free Rajiv Gandhi's killers: Indian Govt...\n",
       "3  3175      8  positive                Organic farming policy on the anvil\n",
       "4  1164      8  positive  MP: 3 detained after 10 dead cows found in aba..."
      ]
     },
     "execution_count": 3,
     "metadata": {},
     "output_type": "execute_result"
    }
   ],
   "source": [
    "gold_standard.head()"
   ]
  },
  {
   "cell_type": "code",
   "execution_count": 4,
   "metadata": {},
   "outputs": [],
   "source": [
    "raw_docs = gold_standard['title'].values"
   ]
  },
  {
   "cell_type": "code",
   "execution_count": 5,
   "metadata": {},
   "outputs": [
    {
     "data": {
      "text/plain": [
       "numpy.ndarray"
      ]
     },
     "execution_count": 5,
     "metadata": {},
     "output_type": "execute_result"
    }
   ],
   "source": [
    "type(raw_docs)"
   ]
  },
  {
   "cell_type": "code",
   "execution_count": 6,
   "metadata": {},
   "outputs": [
    {
     "name": "stdout",
     "output_type": "stream",
     "text": [
      "- Imported Data\n"
     ]
    }
   ],
   "source": [
    "# DATA\n",
    "# Note that raw docs is a numpy array. \n",
    "# Example element is: \n",
    "# 'Logical Disk Free Space is low, Description: The disk C: on computer sjcphxstg02.strykercorp.com is running out of disk space. The values that exceeded the thre'\n",
    "# data_file_string = 'short_description.pkl'\n",
    "\n",
    "# data_file_string = 'gold_standard.csv'\n",
    "# data_file = os.path.join(os.path.dirname(os.path.abspath(inspect.getfile(inspect.currentframe()))),'data',data_file_string)\n",
    "# raw_docs = pickle.load(open(data_file,'rb'))\n",
    "\n",
    "print('- Imported Data')"
   ]
  },
  {
   "cell_type": "code",
   "execution_count": 7,
   "metadata": {},
   "outputs": [],
   "source": [
    "# PRE-PROCESSING\n",
    "preprocess_steps_and_order = {\n",
    "\t'make_lowercase': [True],\n",
    "\t'punctuation_removal':[True],\n",
    "\t'whitespace_removal': [True],\n",
    "\t'store_alphanumeric': [False],\n",
    "\t'pos_removal_nltk': [True, {'pos_removal_nltk_list':['VB', 'VBD', 'VBG', 'VBN', 'VBP', 'VBZ',  'PRP','PRP$',  'RB','RBR','RBS','RP',  'JJ','JJR','JJS',   'CC','DT','EX','IN',   'WDT','WP','WP$','WRB']}],\n",
    "\t'tokenization_nltk': [False],\n",
    "\t'lemmatization_tokenization_spacy': [True],\n",
    "\t'stopwords_removal_nltk': [True],\n",
    "\t'stopwords_removal_spacy': [False],\n",
    "\t'make_bigrams_gensim':[True, {'make_bigrams_gensim': True, 'bigrams_min_count': 10, 'bigrams_threshold': 10}],\n",
    "\t'make_trigrams_gensim':[True, {'make_trigrams_gensim': True, 'trigrams_min_count': 10, 'trigrams_threshold': 10}],\n",
    "\t'min_max_length_removal':[False, {'min_max_length_removal': False, 'mmlr_min_len': 3, 'mmlr_max_len': 50, 'mmlr_deacc': False}]\n",
    "\t}\n",
    "\n",
    "preprocess_functions = {\n",
    "\t'make_lowercase': make_lowercase,\n",
    "\t'punctuation_removal': punctuation_removal,\n",
    "\t'whitespace_removal': whitespace_removal,\n",
    "\t'store_alphanumeric': store_alphanumeric,\n",
    "\t'pos_removal_nltk': pos_removal_nltk,\n",
    "\t'tokenization_nltk': tokenization_nltk,\n",
    "\t'lemmatization_tokenization_spacy': lemmatization_tokenization_spacy,\n",
    "\t'stopwords_removal_nltk': stopwords_removal_nltk,\n",
    "\t'stopwords_removal_spacy': stopwords_removal_spacy,\n",
    "\t'make_bigrams_gensim': make_bigrams_gensim,\n",
    "\t'make_trigrams_gensim': make_trigrams_gensim,\n",
    "\t'min_max_length_removal': min_max_length_removal\n",
    "\t}"
   ]
  },
  {
   "cell_type": "code",
   "execution_count": 8,
   "metadata": {},
   "outputs": [],
   "source": [
    "# MODELS\n",
    "models_dict = {\n",
    "\t'LDA_single_level': lda_model_single_level,\n",
    "\t'LDA_multi_level': lda_model_multi_level,\n",
    "}"
   ]
  },
  {
   "cell_type": "code",
   "execution_count": 9,
   "metadata": {},
   "outputs": [],
   "source": [
    "# SPECIFICATIONS\n",
    "\n",
    "num_topics_list_level_1 = np.arange(1,51,1).tolist()\n",
    "\n",
    "specifications = {\n",
    "\t# 'model':'LDA_single_level', # Can be LDA_multi_level\n",
    "\t'level':2,\n",
    "\t'num_topics_list_level_1':num_topics_list_level_1,\n",
    "\t'num_topics_list_level_2':[3,5,8,11],\n",
    "\t'num_topics_list_level_3':[1,2,3,4,5],\n",
    "\t'coherence':'c_v',\n",
    "\t'need_best_topic': True,\n",
    "\t'model_selection_metric':'coherence', # or 'perplexity',\n",
    "\t'debug':False,\n",
    "    'sample_to_print':1,\n",
    "#     'pos_removal_spacy_list':['ADV','PRON','CCONJ','PUNCT','PART','DET','ADP','SPACE'],\n",
    "}"
   ]
  },
  {
   "cell_type": "code",
   "execution_count": 10,
   "metadata": {},
   "outputs": [
    {
     "name": "stdout",
     "output_type": "stream",
     "text": [
      "*****************************************************\n",
      "- Starting preprocessing\n",
      "\n",
      "       ##### Lowercasing Done! Time Taken -  0.00011610984802246094\n",
      "\n",
      "       ##### Punctuation removed! Time Taken -  0.0010190010070800781\n",
      "\n",
      "       ##### Whitespace removed! Time Taken -  0.00031495094299316406\n",
      "\n",
      "       ##### POS Removal Done! Time Taken -  0.23259401321411133\n",
      "\n",
      "       ##### Lemmatization and Tokenization Done using Spacy! Time Taken -  1.3099360466003418\n",
      "\n",
      "       ##### Stopwords Removed using NLTK! Time Taken -  0.001188039779663086\n",
      "\n",
      "       ##### Bi-Grams made using Gensim! Time Taken -  0.006632089614868164\n",
      "\n",
      "       ##### Tri-Grams made using Gensim! Time Taken -  0.006642818450927734\n",
      "~~~ pre-processing done in  1.5597407817840576\n",
      " \n",
      "- Creating dictionary and corpus\n"
     ]
    }
   ],
   "source": [
    "print('*****************************************************')\n",
    "print('- Starting preprocessing')\n",
    "dictionary, corpus, doc_list = preprocess(\n",
    "\t\t\t\t\t\t\t\traw_docs = raw_docs, \n",
    "\t\t\t\t\t\t\t\tpreprocess_functions = preprocess_functions, \n",
    "\t\t\t\t\t\t\t\tpreprocess_steps_and_order = preprocess_steps_and_order, \n",
    "\t\t\t\t\t\t\t\tdebug=specifications['debug'])"
   ]
  },
  {
   "cell_type": "markdown",
   "metadata": {},
   "source": [
    "### LDA Single Level"
   ]
  },
  {
   "cell_type": "code",
   "execution_count": 11,
   "metadata": {},
   "outputs": [
    {
     "name": "stdout",
     "output_type": "stream",
     "text": [
      "*****************************************************\n",
      "- Starting model training\n",
      " \n",
      "Sample data point:  ['news', 'alert', 'maratha', 'reservation', 'bicycle', 'protester', 'pune', '’s', 'kothrud']\n",
      " \n",
      "\t### Running LDA for number of topic - 1\n",
      "\tLDA Done for 1 topic! Time Taken is 0.15054774284362793\n",
      "\tEvaluating model for number of topic - 1\n",
      "Coherence - 0.6746121300898292, Perplexity - -6.633473351237538\n",
      "---\n",
      "\t### Running LDA for number of topic - 2\n",
      "\tLDA Done for 2 topic! Time Taken is 0.4733710289001465\n",
      "\tEvaluating model for number of topic - 2\n",
      "Coherence - 0.5178613841689278, Perplexity - -6.841806142719892\n",
      "---\n",
      "\t### Running LDA for number of topic - 3\n",
      "\tLDA Done for 3 topic! Time Taken is 0.3772118091583252\n",
      "\tEvaluating model for number of topic - 3\n",
      "Coherence - 0.4979464657135762, Perplexity - -6.897830845792215\n",
      "---\n",
      "\t### Running LDA for number of topic - 4\n",
      "\tLDA Done for 4 topic! Time Taken is 0.30211496353149414\n",
      "\tEvaluating model for number of topic - 4\n",
      "Coherence - 0.5784845394167322, Perplexity - -7.047820374189497\n",
      "---\n",
      "\t### Running LDA for number of topic - 5\n",
      "\tLDA Done for 5 topic! Time Taken is 0.2740137577056885\n",
      "\tEvaluating model for number of topic - 5\n",
      "Coherence - 0.5940626799167206, Perplexity - -7.139379229159146\n",
      "---\n",
      "\t### Running LDA for number of topic - 6\n",
      "\tLDA Done for 6 topic! Time Taken is 0.2718038558959961\n",
      "\tEvaluating model for number of topic - 6\n",
      "Coherence - 0.6140946021346061, Perplexity - -7.271138267923187\n",
      "---\n",
      "\t### Running LDA for number of topic - 7\n",
      "\tLDA Done for 7 topic! Time Taken is 0.2736687660217285\n",
      "\tEvaluating model for number of topic - 7\n",
      "Coherence - 0.5657338022756124, Perplexity - -7.252923084353353\n",
      "---\n",
      "\t### Running LDA for number of topic - 8\n",
      "\tLDA Done for 8 topic! Time Taken is 0.2806870937347412\n",
      "\tEvaluating model for number of topic - 8\n",
      "Coherence - 0.5901691962930636, Perplexity - -7.338589491817977\n",
      "---\n",
      "\t### Running LDA for number of topic - 9\n",
      "\tLDA Done for 9 topic! Time Taken is 0.3039698600769043\n",
      "\tEvaluating model for number of topic - 9\n",
      "Coherence - 0.5733122396980552, Perplexity - -7.36514883161328\n",
      "---\n",
      "\t### Running LDA for number of topic - 10\n",
      "\tLDA Done for 10 topic! Time Taken is 0.31234002113342285\n",
      "\tEvaluating model for number of topic - 10\n",
      "Coherence - 0.5391595416007252, Perplexity - -7.651621925370297\n",
      "---\n",
      "\t### Running LDA for number of topic - 11\n",
      "\tLDA Done for 11 topic! Time Taken is 0.2604837417602539\n",
      "\tEvaluating model for number of topic - 11\n",
      "Coherence - 0.5419575439122387, Perplexity - -7.8401106022029685\n",
      "---\n",
      "\t### Running LDA for number of topic - 12\n",
      "\tLDA Done for 12 topic! Time Taken is 0.26084208488464355\n",
      "\tEvaluating model for number of topic - 12\n",
      "Coherence - 0.5164987041717022, Perplexity - -7.914625792746921\n",
      "---\n",
      "\t### Running LDA for number of topic - 13\n",
      "\tLDA Done for 13 topic! Time Taken is 0.2648320198059082\n",
      "\tEvaluating model for number of topic - 13\n",
      "Coherence - 0.5000118842603614, Perplexity - -7.975823124966205\n",
      "---\n",
      "\t### Running LDA for number of topic - 14\n",
      "\tLDA Done for 14 topic! Time Taken is 0.2642030715942383\n",
      "\tEvaluating model for number of topic - 14\n",
      "Coherence - 0.49018035928111053, Perplexity - -8.094516172575728\n",
      "---\n",
      "\t### Running LDA for number of topic - 15\n",
      "\tLDA Done for 15 topic! Time Taken is 0.29741787910461426\n",
      "\tEvaluating model for number of topic - 15\n",
      "Coherence - 0.48170038305463725, Perplexity - -8.873098249505622\n",
      "---\n",
      "\t### Running LDA for number of topic - 16\n",
      "\tLDA Done for 16 topic! Time Taken is 0.3005030155181885\n",
      "\tEvaluating model for number of topic - 16\n",
      "Coherence - 0.44582700763074334, Perplexity - -11.027469281617547\n",
      "---\n",
      "\t### Running LDA for number of topic - 17\n",
      "\tLDA Done for 17 topic! Time Taken is 0.27091193199157715\n",
      "\tEvaluating model for number of topic - 17\n",
      "Coherence - 0.446863779381461, Perplexity - -11.848589368674991\n",
      "---\n",
      "\t### Running LDA for number of topic - 18\n",
      "\tLDA Done for 18 topic! Time Taken is 0.29979395866394043\n",
      "\tEvaluating model for number of topic - 18\n",
      "Coherence - 0.43447296988715756, Perplexity - -12.298421112307935\n",
      "---\n",
      "\t### Running LDA for number of topic - 19\n",
      "\tLDA Done for 19 topic! Time Taken is 0.3067207336425781\n",
      "\tEvaluating model for number of topic - 19\n",
      "Coherence - 0.4621737820608913, Perplexity - -13.127554168290807\n",
      "---\n",
      "\t### Running LDA for number of topic - 20\n",
      "\tLDA Done for 20 topic! Time Taken is 0.3161027431488037\n",
      "\tEvaluating model for number of topic - 20\n",
      "Coherence - 0.46339528538966734, Perplexity - -13.52969640731117\n",
      "---\n",
      "\t### Running LDA for number of topic - 21\n",
      "\tLDA Done for 21 topic! Time Taken is 0.2588837146759033\n",
      "\tEvaluating model for number of topic - 21\n",
      "Coherence - 0.47751605997298247, Perplexity - -13.736227511720863\n",
      "---\n",
      "\t### Running LDA for number of topic - 22\n",
      "\tLDA Done for 22 topic! Time Taken is 0.27294468879699707\n",
      "\tEvaluating model for number of topic - 22\n",
      "Coherence - 0.46304734255806834, Perplexity - -14.211233459384477\n",
      "---\n",
      "\t### Running LDA for number of topic - 23\n",
      "\tLDA Done for 23 topic! Time Taken is 0.2713439464569092\n",
      "\tEvaluating model for number of topic - 23\n",
      "Coherence - 0.4463442241575963, Perplexity - -14.624153778322327\n",
      "---\n",
      "\t### Running LDA for number of topic - 24\n",
      "\tLDA Done for 24 topic! Time Taken is 0.26346802711486816\n",
      "\tEvaluating model for number of topic - 24\n",
      "Coherence - 0.4747725604701259, Perplexity - -14.919904727724145\n",
      "---\n",
      "\t### Running LDA for number of topic - 25\n",
      "\tLDA Done for 25 topic! Time Taken is 0.2724339962005615\n",
      "\tEvaluating model for number of topic - 25\n",
      "Coherence - 0.471146137194258, Perplexity - -15.297209803943758\n",
      "---\n",
      "\t### Running LDA for number of topic - 26\n",
      "\tLDA Done for 26 topic! Time Taken is 0.26626086235046387\n",
      "\tEvaluating model for number of topic - 26\n",
      "Coherence - 0.45790459407651607, Perplexity - -15.74544253802889\n",
      "---\n",
      "\t### Running LDA for number of topic - 27\n",
      "\tLDA Done for 27 topic! Time Taken is 0.27020788192749023\n",
      "\tEvaluating model for number of topic - 27\n",
      "Coherence - 0.4815045737660689, Perplexity - -15.863524928418817\n",
      "---\n",
      "\t### Running LDA for number of topic - 28\n",
      "\tLDA Done for 28 topic! Time Taken is 0.2835967540740967\n",
      "\tEvaluating model for number of topic - 28\n",
      "Coherence - 0.47401940357158784, Perplexity - -16.427284356861396\n",
      "---\n",
      "\t### Running LDA for number of topic - 29\n",
      "\tLDA Done for 29 topic! Time Taken is 0.3003382682800293\n",
      "\tEvaluating model for number of topic - 29\n",
      "Coherence - 0.48746212010684237, Perplexity - -16.600669017843494\n",
      "---\n",
      "\t### Running LDA for number of topic - 30\n",
      "\tLDA Done for 30 topic! Time Taken is 0.31888794898986816\n",
      "\tEvaluating model for number of topic - 30\n",
      "Coherence - 0.47296507907728247, Perplexity - -17.042307559906373\n",
      "---\n",
      "\t### Running LDA for number of topic - 31\n",
      "\tLDA Done for 31 topic! Time Taken is 0.27818822860717773\n",
      "\tEvaluating model for number of topic - 31\n",
      "Coherence - 0.5038785388121948, Perplexity - -17.688085174027595\n",
      "---\n",
      "\t### Running LDA for number of topic - 32\n",
      "\tLDA Done for 32 topic! Time Taken is 0.3039519786834717\n",
      "\tEvaluating model for number of topic - 32\n",
      "Coherence - 0.5139785818905049, Perplexity - -17.585263394142736\n",
      "---\n",
      "\t### Running LDA for number of topic - 33\n",
      "\tLDA Done for 33 topic! Time Taken is 0.3089578151702881\n",
      "\tEvaluating model for number of topic - 33\n",
      "Coherence - 0.5205717184673443, Perplexity - -18.047774703043338\n",
      "---\n",
      "\t### Running LDA for number of topic - 34\n",
      "\tLDA Done for 34 topic! Time Taken is 0.3120269775390625\n",
      "\tEvaluating model for number of topic - 34\n",
      "Coherence - 0.5086576498107355, Perplexity - -18.43169237859854\n",
      "---\n",
      "\t### Running LDA for number of topic - 35\n",
      "\tLDA Done for 35 topic! Time Taken is 0.34054994583129883\n",
      "\tEvaluating model for number of topic - 35\n",
      "Coherence - 0.5266686675829835, Perplexity - -18.799190806306818\n",
      "---\n",
      "\t### Running LDA for number of topic - 36\n",
      "\tLDA Done for 36 topic! Time Taken is 0.3032200336456299\n",
      "\tEvaluating model for number of topic - 36\n",
      "Coherence - 0.5277131688310902, Perplexity - -19.094643669182457\n",
      "---\n",
      "\t### Running LDA for number of topic - 37\n",
      "\tLDA Done for 37 topic! Time Taken is 0.31606125831604004\n",
      "\tEvaluating model for number of topic - 37\n",
      "Coherence - 0.519945352494826, Perplexity - -19.68487345541899\n",
      "---\n",
      "\t### Running LDA for number of topic - 38\n",
      "\tLDA Done for 38 topic! Time Taken is 0.3253171443939209\n",
      "\tEvaluating model for number of topic - 38\n",
      "Coherence - 0.5319862530285978, Perplexity - -19.70424513149147\n",
      "---\n",
      "\t### Running LDA for number of topic - 39\n"
     ]
    },
    {
     "name": "stdout",
     "output_type": "stream",
     "text": [
      "\tLDA Done for 39 topic! Time Taken is 0.3112952709197998\n",
      "\tEvaluating model for number of topic - 39\n",
      "Coherence - 0.5260063180780408, Perplexity - -20.123507689078757\n",
      "---\n",
      "\t### Running LDA for number of topic - 40\n",
      "\tLDA Done for 40 topic! Time Taken is 0.30669617652893066\n",
      "\tEvaluating model for number of topic - 40\n",
      "Coherence - 0.5286939970156268, Perplexity - -20.390130445590387\n",
      "---\n",
      "\t### Running LDA for number of topic - 41\n",
      "\tLDA Done for 41 topic! Time Taken is 0.31441617012023926\n",
      "\tEvaluating model for number of topic - 41\n",
      "Coherence - 0.526698658064005, Perplexity - -20.820438712082066\n",
      "---\n",
      "\t### Running LDA for number of topic - 42\n",
      "\tLDA Done for 42 topic! Time Taken is 0.32909202575683594\n",
      "\tEvaluating model for number of topic - 42\n",
      "Coherence - 0.5364530777310613, Perplexity - -20.921723481554253\n",
      "---\n",
      "\t### Running LDA for number of topic - 43\n",
      "\tLDA Done for 43 topic! Time Taken is 0.3390769958496094\n",
      "\tEvaluating model for number of topic - 43\n",
      "Coherence - 0.5389453311094135, Perplexity - -21.791372799488542\n",
      "---\n",
      "\t### Running LDA for number of topic - 44\n",
      "\tLDA Done for 44 topic! Time Taken is 0.39147019386291504\n",
      "\tEvaluating model for number of topic - 44\n",
      "Coherence - 0.5306460613697517, Perplexity - -21.868369469120278\n",
      "---\n",
      "\t### Running LDA for number of topic - 45\n",
      "\tLDA Done for 45 topic! Time Taken is 0.36774778366088867\n",
      "\tEvaluating model for number of topic - 45\n",
      "Coherence - 0.525413786822521, Perplexity - -22.27234759749947\n",
      "---\n",
      "\t### Running LDA for number of topic - 46\n",
      "\tLDA Done for 46 topic! Time Taken is 0.3562040328979492\n",
      "\tEvaluating model for number of topic - 46\n",
      "Coherence - 0.5405929294995112, Perplexity - -22.939620864477295\n",
      "---\n",
      "\t### Running LDA for number of topic - 47\n",
      "\tLDA Done for 47 topic! Time Taken is 0.3194241523742676\n",
      "\tEvaluating model for number of topic - 47\n",
      "Coherence - 0.5392249949129712, Perplexity - -23.518006882116527\n",
      "---\n",
      "\t### Running LDA for number of topic - 48\n",
      "\tLDA Done for 48 topic! Time Taken is 0.36278510093688965\n",
      "\tEvaluating model for number of topic - 48\n",
      "Coherence - 0.5297483181342261, Perplexity - -23.406711030739185\n",
      "---\n",
      "\t### Running LDA for number of topic - 49\n",
      "\tLDA Done for 49 topic! Time Taken is 0.37242913246154785\n",
      "\tEvaluating model for number of topic - 49\n",
      "Coherence - 0.5371488298850563, Perplexity - -24.098634071165062\n",
      "---\n",
      "\t### Running LDA for number of topic - 50\n",
      "\tLDA Done for 50 topic! Time Taken is 0.3508610725402832\n",
      "\tEvaluating model for number of topic - 50\n",
      "Coherence - 0.5465703185091616, Perplexity - -24.44003674608174\n",
      "---\n",
      "- Done training model on all topics in 70.29421520233154 sec!\n",
      "Done Single-Level LDA\n"
     ]
    }
   ],
   "source": [
    "print('*****************************************************')\n",
    "print('- Starting model training')\n",
    "lda_dict = lda_model_single_level(\n",
    "\t\t\t\t\tdictionary = dictionary,\n",
    "\t\t\t\t\tcorpus = corpus,\n",
    "\t\t\t\t\tdoc_list = doc_list,\n",
    "\t\t\t\t\tnum_topics_list_level_1 = specifications['num_topics_list_level_1'], \n",
    "\t\t\t\t\tcoherence = specifications['coherence'],\n",
    "\t\t\t\t\tdebug = specifications['debug'],\n",
    "\t\t\t\t\tneed_best_topic = specifications['need_best_topic'],\n",
    "\t\t\t\t\tmodel_selection_metric = specifications['model_selection_metric']\n",
    "\t\t\t\t\t)"
   ]
  },
  {
   "cell_type": "code",
   "execution_count": 12,
   "metadata": {},
   "outputs": [
    {
     "name": "stdout",
     "output_type": "stream",
     "text": [
      "Best Topic 1\n"
     ]
    }
   ],
   "source": [
    "print('Best Topic',lda_dict['best_topic'])"
   ]
  },
  {
   "cell_type": "code",
   "execution_count": 13,
   "metadata": {},
   "outputs": [
    {
     "data": {
      "text/plain": [
       "<Figure size 864x864 with 0 Axes>"
      ]
     },
     "execution_count": 13,
     "metadata": {},
     "output_type": "execute_result"
    },
    {
     "data": {
      "image/png": "[encoded data removed]",
      "text/plain": [
       "<Figure size 432x288 with 1 Axes>"
      ]
     },
     "metadata": {
      "needs_background": "light"
     },
     "output_type": "display_data"
    },
    {
     "data": {
      "text/plain": [
       "<Figure size 864x864 with 0 Axes>"
      ]
     },
     "metadata": {},
     "output_type": "display_data"
    }
   ],
   "source": [
    "plt.plot(num_topics_list_level_1, lda_dict['coherence_score_list'])\n",
    "plt.xlabel('Number of Topics')\n",
    "plt.ylabel('Coherence Score')\n",
    "plt.title('Coherence vs Topics')\n",
    "plt.figure(figsize=(12,12))"
   ]
  },
  {
   "cell_type": "code",
   "execution_count": 14,
   "metadata": {},
   "outputs": [
    {
     "data": {
      "text/plain": [
       "<Figure size 864x864 with 0 Axes>"
      ]
     },
     "execution_count": 14,
     "metadata": {},
     "output_type": "execute_result"
    },
    {
     "data": {
      "image/png": "[encoded data removed]",
      "text/plain": [
       "<Figure size 432x288 with 1 Axes>"
      ]
     },
     "metadata": {
      "needs_background": "light"
     },
     "output_type": "display_data"
    },
    {
     "data": {
      "text/plain": [
       "<Figure size 864x864 with 0 Axes>"
      ]
     },
     "metadata": {},
     "output_type": "display_data"
    }
   ],
   "source": [
    "plt.plot(num_topics_list_level_1, lda_dict['perplexity_score_list'])\n",
    "plt.xlabel('Number of Topics')\n",
    "plt.ylabel('Perplexity')\n",
    "plt.title('Perplexity vs Topics')\n",
    "plt.figure(figsize=(12,12))"
   ]
  },
  {
   "cell_type": "code",
   "execution_count": 16,
   "metadata": {},
   "outputs": [
    {
     "data": {
      "text/html": [
       "\n",
       "<link rel=\"stylesheet\" type=\"text/css\" href=\"https://cdn.rawgit.com/bmabey/pyLDAvis/files/ldavis.v1.0.0.css\">\n",
       "\n",
       "\n",
       "<div id=\"ldavis_el3570150341388643160691815\"></div>\n",
       "<script type=\"text/javascript\">\n",
       "\n",
       "var ldavis_el3570150341388643160691815_data = {\"mdsDat\": {\"x\": [-0.11425474469544404, 0.07143917628353431, 0.2324797112461763, -0.048738817949500024, -0.07669709423714278, -0.06422823064762397], \"y\": [0.0541244263228058, -0.2250818709992791, 0.11354164160389284, -0.0006955315399115378, 0.03480696231045762, 0.02330437230203396], \"topics\": [1, 2, 3, 4, 5, 6], \"cluster\": [1, 1, 1, 1, 1, 1], \"Freq\": [25.24040985107422, 21.84204864501953, 14.310524940490723, 13.216757774353027, 12.94233512878418, 12.447930335998535]}, \"tinfo\": {\"Category\": [\"Default\", \"Default\", \"Default\", \"Default\", \"Default\", \"Default\", \"Default\", \"Default\", \"Default\", \"Default\", \"Default\", \"Default\", \"Default\", \"Default\", \"Default\", \"Default\", \"Default\", \"Default\", \"Default\", \"Default\", \"Default\", \"Default\", \"Default\", \"Default\", \"Default\", \"Default\", \"Default\", \"Default\", \"Default\", \"Default\", \"Topic1\", \"Topic1\", \"Topic1\", \"Topic1\", \"Topic1\", \"Topic1\", \"Topic1\", \"Topic1\", \"Topic1\", \"Topic1\", \"Topic1\", \"Topic1\", \"Topic1\", \"Topic1\", \"Topic1\", \"Topic1\", \"Topic1\", \"Topic1\", \"Topic1\", \"Topic1\", \"Topic1\", \"Topic1\", \"Topic1\", \"Topic1\", \"Topic1\", \"Topic1\", \"Topic1\", \"Topic1\", \"Topic1\", \"Topic1\", \"Topic1\", \"Topic1\", \"Topic1\", \"Topic1\", \"Topic1\", \"Topic1\", \"Topic1\", \"Topic2\", \"Topic2\", \"Topic2\", \"Topic2\", \"Topic2\", \"Topic2\", \"Topic2\", \"Topic2\", \"Topic2\", \"Topic2\", \"Topic2\", \"Topic2\", \"Topic2\", \"Topic2\", \"Topic2\", \"Topic2\", \"Topic2\", \"Topic2\", \"Topic2\", \"Topic2\", \"Topic2\", \"Topic2\", \"Topic2\", \"Topic2\", \"Topic2\", \"Topic2\", \"Topic2\", \"Topic2\", \"Topic2\", \"Topic2\", \"Topic2\", \"Topic2\", \"Topic2\", \"Topic2\", \"Topic2\", \"Topic2\", \"Topic3\", \"Topic3\", \"Topic3\", \"Topic3\", \"Topic3\", \"Topic3\", \"Topic3\", \"Topic3\", \"Topic3\", \"Topic3\", \"Topic3\", \"Topic3\", \"Topic3\", \"Topic3\", \"Topic3\", \"Topic3\", \"Topic3\", \"Topic3\", \"Topic3\", \"Topic3\", \"Topic3\", \"Topic3\", \"Topic3\", \"Topic3\", \"Topic3\", \"Topic3\", \"Topic3\", \"Topic3\", \"Topic3\", \"Topic3\", \"Topic3\", \"Topic3\", \"Topic3\", \"Topic3\", \"Topic3\", \"Topic3\", \"Topic3\", \"Topic3\", \"Topic4\", \"Topic4\", \"Topic4\", \"Topic4\", \"Topic4\", \"Topic4\", \"Topic4\", \"Topic4\", \"Topic4\", \"Topic4\", \"Topic4\", \"Topic4\", \"Topic4\", \"Topic4\", \"Topic4\", \"Topic4\", \"Topic4\", \"Topic4\", \"Topic4\", \"Topic4\", \"Topic4\", \"Topic4\", \"Topic4\", \"Topic4\", \"Topic4\", \"Topic4\", \"Topic4\", \"Topic4\", \"Topic4\", \"Topic4\", \"Topic4\", \"Topic4\", \"Topic4\", \"Topic4\", \"Topic4\", \"Topic4\", \"Topic4\", \"Topic4\", \"Topic4\", \"Topic4\", \"Topic5\", \"Topic5\", \"Topic5\", \"Topic5\", \"Topic5\", \"Topic5\", \"Topic5\", \"Topic5\", \"Topic5\", \"Topic5\", \"Topic5\", \"Topic5\", \"Topic5\", \"Topic5\", \"Topic5\", \"Topic5\", \"Topic5\", \"Topic5\", \"Topic5\", \"Topic5\", \"Topic5\", \"Topic5\", \"Topic5\", \"Topic5\", \"Topic5\", \"Topic5\", \"Topic5\", \"Topic5\", \"Topic5\", \"Topic5\", \"Topic5\", \"Topic5\", \"Topic5\", \"Topic5\", \"Topic5\", \"Topic6\", \"Topic6\", \"Topic6\", \"Topic6\", \"Topic6\", \"Topic6\", \"Topic6\", \"Topic6\", \"Topic6\", \"Topic6\", \"Topic6\", \"Topic6\", \"Topic6\", \"Topic6\", \"Topic6\", \"Topic6\", \"Topic6\", \"Topic6\", \"Topic6\", \"Topic6\", \"Topic6\", \"Topic6\", \"Topic6\", \"Topic6\", \"Topic6\", \"Topic6\", \"Topic6\", \"Topic6\", \"Topic6\", \"Topic6\", \"Topic6\", \"Topic6\", \"Topic6\", \"Topic6\", \"Topic6\", \"Topic6\"], \"Freq\": [13.0, 10.0, 9.0, 9.0, 14.0, 9.0, 8.0, 8.0, 7.0, 12.0, 10.0, 13.0, 10.0, 10.0, 12.0, 8.0, 6.0, 8.0, 8.0, 8.0, 8.0, 5.0, 8.0, 5.0, 5.0, 7.0, 7.0, 7.0, 5.0, 5.0, 14.347543716430664, 12.085694313049316, 10.425030708312988, 10.420673370361328, 4.210536003112793, 3.4960861206054688, 3.435473918914795, 2.1734328269958496, 1.7862313985824585, 1.6241893768310547, 2.3149688243865967, 1.236917495727539, 1.2366936206817627, 1.2366901636123657, 1.2366869449615479, 2.721604585647583, 1.0747458934783936, 1.074744701385498, 1.0747437477111816, 1.0747437477111816, 1.0747417211532593, 1.0745649337768555, 1.4610856771469116, 1.2370572090148926, 0.6872130036354065, 0.6872130036354065, 0.6872130036354065, 0.6872130036354065, 0.6872130036354065, 0.6872117519378662, 1.2367130517959595, 1.235640287399292, 1.0745511054992676, 1.8749828338623047, 1.0739432573318481, 1.0749294757843018, 1.7173141241073608, 10.025057792663574, 8.393743515014648, 8.115153312683105, 7.70936918258667, 7.709338188171387, 7.965732574462891, 7.577638626098633, 7.303380012512207, 7.303380012512207, 7.303380012512207, 2.0581343173980713, 2.055135488510132, 2.917090654373169, 1.6029672622680664, 1.53228759765625, 1.1945804357528687, 1.1928154230117798, 1.1906168460845947, 1.080008625984192, 1.0796501636505127, 1.0780186653137207, 0.9107571840286255, 0.7938033938407898, 0.7904008626937866, 0.7885472178459167, 0.7766900062561035, 7.304350852966309, 7.805385589599609, 0.6739976406097412, 0.6739971041679382, 0.6739971041679382, 2.3588337898254395, 1.3666024208068848, 1.6345429420471191, 1.2935155630111694, 0.9605497121810913, 12.900349617004395, 5.878764629364014, 5.344265460968018, 5.2651143074035645, 5.185591220855713, 5.07720947265625, 4.8098368644714355, 4.807814598083496, 4.787910461425781, 4.787910461425781, 4.787910461425781, 4.787910461425781, 0.7886114716529846, 0.7876247763633728, 0.6007542014122009, 0.5227744579315186, 0.5225116610527039, 5.5480265617370605, 4.809199333190918, 0.5227880477905273, 0.5228023529052734, 0.5205784440040588, 0.33427274227142334, 0.33427274227142334, 0.33427274227142334, 0.33427274227142334, 0.33427274227142334, 0.33427274227142334, 0.334272176027298, 0.334272176027298, 0.5228398442268372, 0.4912906289100647, 0.7901626229286194, 0.4439364969730377, 0.5416399240493774, 0.4440445601940155, 0.34449490904808044, 0.3342868983745575, 3.6190953254699707, 2.0577712059020996, 1.6905649900436401, 1.3833723068237305, 1.1705354452133179, 1.1705354452133179, 1.1363635063171387, 1.1349846124649048, 1.01742684841156, 1.0173536539077759, 1.016947865486145, 0.650573194026947, 0.650573194026947, 0.650573194026947, 0.650573194026947, 0.6505700349807739, 0.6505668759346008, 0.6505668759346008, 0.6505667567253113, 0.6505593657493591, 0.650149405002594, 1.0147311687469482, 0.6482331156730652, 1.749108076095581, 0.49705231189727783, 0.49705231189727783, 0.49705222249031067, 0.49705225229263306, 0.49705222249031067, 0.49705225229263306, 0.49705225229263306, 0.49705222249031067, 0.49705222249031067, 2.3372440338134766, 1.5307855606079102, 0.8627963066101074, 0.9794173240661621, 0.6495168209075928, 0.8637784123420715, 1.0173214673995972, 9.6758451461792, 8.713115692138672, 8.595544815063477, 7.868534564971924, 1.859907627105713, 1.1722569465637207, 0.8985351324081421, 0.8985351324081421, 0.7812010049819946, 0.7811952233314514, 0.7810250520706177, 2.6319785118103027, 1.1523939371109009, 0.6632989048957825, 0.6632989048957825, 0.6618300080299377, 0.6612192392349243, 0.9443749785423279, 1.373543381690979, 0.499519944190979, 0.49905988574028015, 0.49905988574028015, 0.49905988574028015, 0.49905988574028015, 0.4989805817604065, 0.4989805817604065, 0.4986923635005951, 0.4986923635005951, 0.4986651539802551, 0.49756598472595215, 1.5831880569458008, 0.8727473020553589, 0.6632630825042725, 0.6626061797142029, 0.49949559569358826, 8.568166732788086, 8.263991355895996, 7.447629451751709, 2.343386650085449, 1.2218765020370483, 1.2123836278915405, 0.9793049693107605, 0.9318699240684509, 0.9312142133712769, 0.8096421957015991, 0.8039965033531189, 0.9287064671516418, 1.014466643333435, 0.809680163860321, 0.8096644282341003, 0.5177517533302307, 0.5177492499351501, 0.5177492499351501, 0.5177492499351501, 0.51774662733078, 0.5175310373306274, 0.5175310373306274, 0.5175310373306274, 0.5175310373306274, 0.5174258351325989, 0.5174258351325989, 0.5174258351325989, 0.5174258351325989, 0.5172433257102966, 0.5172433257102966, 0.809604287147522, 0.8096910119056702, 0.6874955892562866, 0.517735481262207, 0.5177068114280701, 0.5174864530563354], \"Term\": [\"india\", \"land\", \"maharashtra\", \"acquisition\", \"violence\", \"government\", \"issue\", \"court\", \"ride\", \"slaughter\", \"mine\", \"miner\", \"team\", \"onion\", \"effort\", \"encroachment\", \"coal\", \"meghalaya\", \"resident\", \"tragedy\", \"diver\", \"leopard\", \"debt\", \"body\", \"highway\", \"pump\", \"incident\", \"airlift\", \"monk\", \"forest\", \"violence\", \"slaughter\", \"team\", \"onion\", \"cow\", \"day\", \"bulandshahr\", \"bjp\", \"official\", \"promise\", \"death\", \"conspiracy\", \"cat\", \"killing\", \"avni\", \"man\", \"drought\", \"mp\", \"question\", \"answer\", \"year\", \"skull\", \"today\", \"hold\", \"cage\", \"bait\", \"goat\", \"eater\", \"dept\", \"battle\", \"mumbai\", \"rat\", \"power\", \"police\", \"modi\", \"crop\", \"water\", \"mine\", \"encroachment\", \"meghalaya\", \"tragedy\", \"diver\", \"resident\", \"debt\", \"pump\", \"incident\", \"airlift\", \"gas\", \"\\u2019\", \"delhi\", \"attack\", \"cannon\", \"villager\", \"tigress\", \"loan\", \"price\", \"worker\", \"party\", \"trap\", \"plantation\", \"hunt\", \"agitation\", \"road\", \"effort\", \"miner\", \"goa\", \"rain\", \"border\", \"water\", \"govt\", \"police\", \"protest\", \"modi\", \"india\", \"coal\", \"leopard\", \"body\", \"highway\", \"monk\", \"forest\", \"serviceman\", \"notice\", \"ghaziabad\", \"eviction\", \"development\", \"trader\", \"congress\", \"die\", \"distress\", \"plight\", \"miner\", \"effort\", \"tiger\", \"rally\", \"news\", \"vasundhara\", \"aunt\", \"scindia\", \"raje\", \"youth\", \"jyotiraditya\", \"ban\", \"tuna\", \"conflict\", \"kill\", \"man\", \"flood\", \"march\", \"kerala\", \"death\", \"livestock\", \"crisis\", \"dam\", \"cauvery\", \"farm\", \"construction\", \"aiadmk\", \"session\", \"karnataka\", \"slam\", \"bid\", \"meet\", \"spring\", \"tide\", \"city\", \"bavdhan\", \"letter\", \"tower\", \"transmission\", \"ten\", \"amarind\", \"mps\", \"woman\", \"row\", \"govt\", \"resolution\", \"bank\", \"mehmood\", \"stress\", \"pak\", \"arbitration\", \"indo\", \"dispute\", \"shah\", \"water\", \"protest\", \"state\", \"gujarat\", \"waiver\", \"crop\", \"march\", \"land\", \"acquisition\", \"government\", \"court\", \"cm\", \"tamil\", \"attempt\", \"rupani\", \"tribal\", \"stir\", \"refinery\", \"march\", \"demand\", \"victory\", \"claim\", \"expert\", \"law\", \"flood\", \"gujarat\", \"vijay\", \"landfall\", \"point\", \"gaja\", \"cyclone\", \"fadnavi\", \"inquiry\", \"compensation\", \"thane\", \"purchase\", \"month\", \"protest\", \"kerala\", \"kranti\", \"police\", \"pesticide\", \"maharashtra\", \"issue\", \"ride\", \"centre\", \"project\", \"river\", \"rs\", \"parliament\", \"train\", \"sand\", \"people\", \"minister\", \"capital\", \"mining\", \"elephant\", \"pala\", \"walayar\", \"smash\", \"data\", \"pawar\", \"loggerhead\", \"koli\", \"community\", \"bmc\", \"coast\", \"boat\", \"guard\", \"bengal\", \"ms\", \"support\", \"action\", \"state\", \"\\u2019s\", \"hole\", \"rat\", \"mumbai\"], \"Total\": [13.0, 10.0, 9.0, 9.0, 14.0, 9.0, 8.0, 8.0, 7.0, 12.0, 10.0, 13.0, 10.0, 10.0, 12.0, 8.0, 6.0, 8.0, 8.0, 8.0, 8.0, 5.0, 8.0, 5.0, 5.0, 7.0, 7.0, 7.0, 5.0, 5.0, 14.850805282592773, 12.58875560760498, 10.934374809265137, 10.935827255249023, 4.713127136230469, 4.000529766082764, 3.9380998611450195, 2.6764073371887207, 2.2889132499694824, 2.1268036365509033, 3.095261335372925, 1.739419937133789, 1.7393563985824585, 1.7393540143966675, 1.7393503189086914, 3.948918581008911, 1.5772480964660645, 1.577247142791748, 1.5772461891174316, 1.5772461891174316, 1.5772442817687988, 1.5771946907043457, 2.256305456161499, 2.138970375061035, 1.1897153854370117, 1.1897153854370117, 1.1897153854370117, 1.1897153854370117, 1.1897153854370117, 1.1897141933441162, 2.1533689498901367, 2.1531453132629395, 1.9439691305160522, 4.764766216278076, 2.4355227947235107, 2.5970466136932373, 7.008796691894531, 10.564112663269043, 8.938793182373047, 8.653935432434082, 8.247848510742188, 8.247870445251465, 8.525261878967285, 8.128766059875488, 7.841850280761719, 7.841850280761719, 7.841850280761719, 2.596935749053955, 2.5971720218658447, 3.8219804763793945, 2.145202398300171, 2.071183443069458, 1.7399650812149048, 1.7394460439682007, 1.7386505603790283, 1.6184788942337036, 1.618452787399292, 1.6177729368209839, 1.4529780149459839, 1.3322736024856567, 1.3310656547546387, 1.3323041200637817, 1.332476258277893, 12.585088729858398, 13.826194763183594, 1.2124680280685425, 1.2124675512313843, 1.2124675512313843, 7.008796691894531, 3.525078296661377, 4.764766216278076, 4.718031883239746, 2.4355227947235107, 13.476035118103027, 6.453003406524658, 5.918118476867676, 5.839176177978516, 5.760802745819092, 5.650398254394531, 5.383006572723389, 5.384329795837402, 5.395017147064209, 5.395017147064209, 5.395017147064209, 5.395017147064209, 1.3648884296417236, 1.3657764196395874, 1.1755319833755493, 1.0959452390670776, 1.0960747003555298, 13.826194763183594, 12.585088729858398, 1.3775683641433716, 1.3878306150436401, 1.3901170492172241, 0.9074422717094421, 0.9074422717094421, 0.9074422717094421, 0.9074422717094421, 0.9074422717094421, 0.9074422717094421, 0.9074417948722839, 0.9074417948722839, 1.4626878499984741, 1.3984342813491821, 3.948918581008911, 1.8621128797531128, 4.535053730010986, 2.5423941612243652, 3.095261335372925, 1.4568599462509155, 4.129035472869873, 2.567917585372925, 2.2009999752044678, 1.8936548233032227, 1.6807037591934204, 1.6807037591934204, 1.6827079057693481, 1.6824766397476196, 1.5272690057754517, 1.5272327661514282, 1.5271652936935425, 1.1604152917861938, 1.1604152917861938, 1.1604152917861938, 1.1604152917861938, 1.1604124307632446, 1.1604095697402954, 1.1604095697402954, 1.1604094505310059, 1.160402774810791, 1.1603220701217651, 1.813104271888733, 1.1598986387252808, 3.525078296661377, 1.0068941116333008, 1.0068941116333008, 1.0068941116333008, 1.0068942308425903, 1.0068941116333008, 1.0068942308425903, 1.0068942308425903, 1.0068942308425903, 1.0068942308425903, 7.008796691894531, 4.718031883239746, 2.2679412364959717, 2.762988805770874, 1.5596588850021362, 2.5970466136932373, 4.535053730010986, 10.216553688049316, 9.25363540649414, 9.135735511779785, 8.408656120300293, 2.4026761054992676, 1.722625970840454, 1.439307689666748, 1.439307689666748, 1.3212862014770508, 1.3212811946868896, 1.3212908506393433, 4.535053730010986, 2.0137734413146973, 1.2033854722976685, 1.2033854722976685, 1.2038158178329468, 1.2040051221847534, 1.8621128797531128, 2.762988805770874, 1.0396050214767456, 1.039611577987671, 1.039611577987671, 1.039611577987671, 1.039611577987671, 1.0395926237106323, 1.0395926237106323, 1.0396085977554321, 1.0396085977554321, 1.0396144390106201, 1.0392189025878906, 4.718031883239746, 2.5423941612243652, 1.8563199043273926, 4.764766216278076, 1.3069350719451904, 9.106337547302246, 8.809796333312988, 7.986237525939941, 2.880573272705078, 1.7607449293136597, 1.76308274269104, 1.5159173011779785, 1.4683210849761963, 1.468291997909546, 1.3461213111877441, 1.3458738327026367, 1.7365453243255615, 1.9220778942108154, 1.6322977542877197, 1.6322953701019287, 1.0541871786117554, 1.054184913635254, 1.054184913635254, 1.054184913635254, 1.054182767868042, 1.0541762113571167, 1.0541762113571167, 1.0541762113571167, 1.0541762113571167, 1.054065465927124, 1.054065465927124, 1.054065465927124, 1.054065465927124, 1.0541579723358154, 1.0541579723358154, 1.7129325866699219, 2.2679412364959717, 1.791721224784851, 1.60337233543396, 2.1531453132629395, 2.1533689498901367], \"loglift\": [30.0, 29.0, 28.0, 27.0, 26.0, 25.0, 24.0, 23.0, 22.0, 21.0, 20.0, 19.0, 18.0, 17.0, 16.0, 15.0, 14.0, 13.0, 12.0, 11.0, 10.0, 9.0, 8.0, 7.0, 6.0, 5.0, 4.0, 3.0, 2.0, 1.0, 1.3422000408172607, 1.3358999490737915, 1.3289999961853027, 1.3285000324249268, 1.2640000581741333, 1.2418999671936035, 1.2402000427246094, 1.1685999631881714, 1.1288000345230103, 1.107100009918213, 1.0861999988555908, 1.0357999801635742, 1.0356999635696411, 1.035599946975708, 1.035599946975708, 1.0045000314712524, 0.9930999875068665, 0.9930999875068665, 0.9930999875068665, 0.9930999875068665, 0.9930999875068665, 0.9929999709129333, 0.9422000050544739, 0.8291000127792358, 0.8278999924659729, 0.8278999924659729, 0.8278999924659729, 0.8278999924659729, 0.8278999924659729, 0.8278999924659729, 0.8220999836921692, 0.821399986743927, 0.7839000225067139, 0.4440999925136566, 0.5579000115394592, 0.49459999799728394, -0.02969999983906746, 1.468999981880188, 1.458400011062622, 1.4571000337600708, 1.4537999629974365, 1.4537999629974365, 1.4534000158309937, 1.4510999917984009, 1.4501999616622925, 1.4501999616622925, 1.4501999616622925, 1.2888000011444092, 1.2872999906539917, 1.2511999607086182, 1.2300000190734863, 1.2200000286102295, 1.145300030708313, 1.1440999507904053, 1.142699956893921, 1.1167999505996704, 1.1165000200271606, 1.115399956703186, 1.0542000532150269, 1.003499984741211, 1.000100016593933, 0.9969000220298767, 0.9815999865531921, 0.9772999882698059, 0.9495999813079834, 0.9340999722480774, 0.9340999722480774, 0.9340999722480774, 0.43230000138282776, 0.5738000273704529, 0.4514000117778778, 0.2273000031709671, 0.5909000039100647, 1.9005000591278076, 1.8509999513626099, 1.8422000408172607, 1.8407000303268433, 1.8389999866485596, 1.8372000455856323, 1.8315999507904053, 1.830899953842163, 1.8248000144958496, 1.8248000144958496, 1.8248000144958496, 1.8248000144958496, 1.3955999612808228, 1.3937000036239624, 1.2728999853134155, 1.2039999961853027, 1.2032999992370605, 1.0311000347137451, 0.982200026512146, 0.9753000140190125, 0.9678999781608582, 0.9620000123977661, 0.9455000162124634, 0.9455000162124634, 0.9455000162124634, 0.9455000162124634, 0.9455000162124634, 0.9455000162124634, 0.9455000162124634, 0.9455000162124634, 0.9154000282287598, 0.8981000185012817, 0.3352000117301941, 0.5103999972343445, -0.18080000579357147, 0.19920000433921814, -0.2513999938964844, 0.47209998965263367, 1.8918999433517456, 1.8021999597549438, 1.7597999572753906, 1.7096999883651733, 1.6619000434875488, 1.6619000434875488, 1.631100058555603, 1.6299999952316284, 1.6174999475479126, 1.617400050163269, 1.6171000003814697, 1.4450000524520874, 1.4450000524520874, 1.4450000524520874, 1.4450000524520874, 1.4450000524520874, 1.4450000524520874, 1.4450000524520874, 1.4450000524520874, 1.4450000524520874, 1.4443999528884888, 1.4433000087738037, 1.4417999982833862, 1.3229000568389893, 1.3178000450134277, 1.3178000450134277, 1.3178000450134277, 1.3178000450134277, 1.3178000450134277, 1.3178000450134277, 1.3178000450134277, 1.3178000450134277, 1.3178000450134277, 0.9254999756813049, 0.8981000185012817, 1.0571999549865723, 0.9865999817848206, 1.1476999521255493, 0.9229000210762024, 0.5289999842643738, 1.9903000593185425, 1.9845000505447388, 1.9837000370025635, 1.9782999753952026, 1.788599967956543, 1.6597000360488892, 1.5735000371932983, 1.5735000371932983, 1.5190999507904053, 1.5190999507904053, 1.5189000368118286, 1.500599980354309, 1.4865000247955322, 1.4490000009536743, 1.4490000009536743, 1.4464000463485718, 1.4452999830245972, 1.3657000064849854, 1.3457000255584717, 1.3116999864578247, 1.3107999563217163, 1.3107999563217163, 1.3107999563217163, 1.3107999563217163, 1.3106000423431396, 1.3106000423431396, 1.3100999593734741, 1.3100999593734741, 1.309999942779541, 1.3082000017166138, 0.9527000188827515, 0.9754999876022339, 1.0154999494552612, 0.07180000096559525, 1.082800030708313, 2.022700071334839, 2.019700050354004, 2.0137999057769775, 1.8772000074386597, 1.7182999849319458, 1.7091000080108643, 1.6467000246047974, 1.6289000511169434, 1.6282999515533447, 1.5751999616622925, 1.5684000253677368, 1.457800030708313, 1.444599986076355, 1.3825000524520874, 1.3825000524520874, 1.3725999593734741, 1.3725999593734741, 1.3725999593734741, 1.3725999593734741, 1.3725999593734741, 1.3722000122070312, 1.3722000122070312, 1.3722000122070312, 1.3722000122070312, 1.3720999956130981, 1.3720999956130981, 1.3720999956130981, 1.3720999956130981, 1.3716000318527222, 1.3716000318527222, 1.3342000246047974, 1.0535999536514282, 1.1256999969482422, 0.9531999826431274, 0.65829998254776, 0.657800018787384], \"logprob\": [30.0, 29.0, 28.0, 27.0, 26.0, 25.0, 24.0, 23.0, 22.0, 21.0, 20.0, 19.0, 18.0, 17.0, 16.0, 15.0, 14.0, 13.0, 12.0, 11.0, 10.0, 9.0, 8.0, 7.0, 6.0, 5.0, 4.0, 3.0, 2.0, 1.0, -2.773099899291992, -2.944700002670288, -3.0924999713897705, -3.092900037765503, -3.9990999698638916, -4.185100078582764, -4.202600002288818, -4.660399913787842, -4.856599807739258, -4.951700210571289, -4.597300052642822, -5.224100112915039, -5.224299907684326, -5.224299907684326, -5.224299907684326, -4.435500144958496, -5.36460018157959, -5.36460018157959, -5.36460018157959, -5.36460018157959, -5.36460018157959, -5.364799976348877, -5.057499885559082, -5.223999977111816, -5.811800003051758, -5.811800003051758, -5.811800003051758, -5.811800003051758, -5.811800003051758, -5.811800003051758, -5.224299907684326, -5.225100040435791, -5.364799976348877, -4.80810022354126, -5.3653998374938965, -5.364500045776367, -4.895999908447266, -2.986999988555908, -3.164599895477295, -3.1984000205993652, -3.2497000694274902, -3.2497000694274902, -3.2170000076293945, -3.266900062561035, -3.303800106048584, -3.303800106048584, -3.303800106048584, -4.570300102233887, -4.571800231933594, -4.221499919891357, -4.820300102233887, -4.865300178527832, -5.114299774169922, -5.115799903869629, -5.117599964141846, -5.215099811553955, -5.2154998779296875, -5.2170000076293945, -5.3856000900268555, -5.5229997634887695, -5.527299880981445, -5.529699802398682, -5.5447998046875, -3.3036000728607178, -3.237299919128418, -5.686600208282471, -5.686600208282471, -5.686600208282471, -4.433899879455566, -4.979800224304199, -4.8007001876831055, -5.0346999168396, -5.332399845123291, -2.312000036239624, -3.097899913787842, -3.19320011138916, -3.208199977874756, -3.223400115966797, -3.244499921798706, -3.2985999584198, -3.2990000247955322, -3.3032000064849854, -3.3032000064849854, -3.3032000064849854, -3.3032000064849854, -5.106800079345703, -5.107999801635742, -5.378799915313721, -5.517899990081787, -5.518400192260742, -3.1558001041412354, -3.2987000942230225, -5.5177998542785645, -5.5177998542785645, -5.52209997177124, -5.965099811553955, -5.965099811553955, -5.965099811553955, -5.965099811553955, -5.965099811553955, -5.965099811553955, -5.965099811553955, -5.965099811553955, -5.5177001953125, -5.579999923706055, -5.104800224304199, -5.681300163269043, -5.482399940490723, -5.681099891662598, -5.934899806976318, -5.965000152587891, -3.503499984741211, -4.0680999755859375, -4.264699935913086, -4.465199947357178, -4.632299900054932, -4.632299900054932, -4.661900043487549, -4.663099765777588, -4.772500038146973, -4.772600173950195, -4.7729997634887695, -5.219699859619141, -5.219699859619141, -5.219699859619141, -5.219699859619141, -5.219699859619141, -5.219699859619141, -5.219699859619141, -5.219699859619141, -5.219699859619141, -5.220300197601318, -4.775100231170654, -5.223299980163574, -4.2307000160217285, -5.488800048828125, -5.488800048828125, -5.488800048828125, -5.488800048828125, -5.488800048828125, -5.488800048828125, -5.488800048828125, -5.488800048828125, -5.488800048828125, -3.9407999515533447, -4.363999843597412, -4.937300205230713, -4.8105998039245605, -5.22130012512207, -4.936200141906738, -4.772600173950195, -2.4990999698638916, -2.6038999557495117, -2.617500066757202, -2.705899953842163, -4.1483001708984375, -4.609799861907959, -4.875800132751465, -4.875800132751465, -5.015699863433838, -5.015699863433838, -5.015900135040283, -3.8010001182556152, -4.6269001960754395, -5.179299831390381, -5.179299831390381, -5.18149995803833, -5.182400226593018, -4.826000213623047, -4.451399803161621, -5.462900161743164, -5.463799953460693, -5.463799953460693, -5.463799953460693, -5.463799953460693, -5.464000225067139, -5.464000225067139, -5.4644999504089355, -5.4644999504089355, -5.464600086212158, -5.466800212860107, -4.309299945831299, -4.904900074005127, -5.1793999671936035, -5.1803998947143555, -5.462900161743164, -2.5817999839782715, -2.6178998947143555, -2.72189998626709, -3.878200054168701, -4.529399871826172, -4.537199974060059, -4.750699996948242, -4.8003997802734375, -4.80109977722168, -4.940999984741211, -4.947999954223633, -4.803800106048584, -4.7154998779296875, -4.940899848937988, -4.940999984741211, -5.3881001472473145, -5.3881001472473145, -5.3881001472473145, -5.3881001472473145, -5.3881001472473145, -5.388500213623047, -5.388500213623047, -5.388500213623047, -5.388500213623047, -5.388700008392334, -5.388700008392334, -5.388700008392334, -5.388700008392334, -5.389100074768066, -5.389100074768066, -4.940999984741211, -4.940899848937988, -5.104499816894531, -5.3881001472473145, -5.388199806213379, -5.388599872589111]}, \"token.table\": {\"Topic\": [5, 6, 2, 4, 2, 4, 1, 2, 5, 1, 1, 1, 4, 6, 4, 1, 6, 6, 3, 2, 1, 1, 2, 6, 1, 4, 6, 4, 5, 5, 3, 6, 6, 3, 3, 1, 4, 5, 1, 4, 1, 4, 4, 6, 1, 1, 2, 2, 5, 1, 3, 3, 3, 2, 1, 1, 2, 3, 6, 2, 3, 5, 4, 5, 3, 2, 3, 2, 1, 5, 2, 4, 6, 4, 5, 3, 1, 1, 6, 2, 2, 3, 6, 4, 4, 5, 1, 6, 5, 5, 5, 3, 4, 1, 2, 6, 6, 1, 3, 3, 4, 5, 4, 2, 2, 2, 3, 6, 6, 1, 2, 3, 1, 4, 6, 1, 6, 3, 3, 1, 1, 6, 6, 2, 6, 6, 2, 3, 1, 2, 5, 1, 2, 6, 1, 2, 4, 5, 2, 1, 2, 3, 1, 6, 5, 2, 6, 6, 2, 4, 6, 5, 6, 3, 4, 1, 4, 1, 6, 4, 4, 6, 5, 6, 5, 1, 4, 4, 3, 2, 1, 4, 3, 2, 6, 4, 2, 5, 5, 2, 1, 4, 6, 1, 2, 4, 4, 2, 1, 2, 6], \"Freq\": [0.9725907444953918, 0.583794116973877, 0.7505793571472168, 0.5949888229370117, 0.8926464915275574, 0.8617697358131409, 0.6340164542198181, 0.9323129653930664, 0.6947785019874573, 0.5749273300170898, 0.8405371904373169, 0.8405380249023438, 0.8617604374885559, 0.9487076997756958, 0.6547790169715881, 0.747270405292511, 0.9486080408096313, 0.9487076997756958, 0.8562851548194885, 0.8247643113136292, 0.7617887258529663, 0.8405371904373169, 0.9656314849853516, 0.5202702879905701, 0.5749253034591675, 0.908677875995636, 0.6943062543869019, 0.8617604374885559, 0.8309889435768127, 0.832405149936676, 0.9297996163368225, 0.9487076997756958, 0.9486080408096313, 0.6836728453636169, 0.7321842908859253, 0.5749043226242065, 0.5949888229370117, 0.9514005184173584, 0.8486934304237366, 0.9687492251396179, 0.38505277037620544, 0.38505277037620544, 0.7788411974906921, 0.948600172996521, 0.7499006986618042, 0.6461489796638489, 0.9841592311859131, 0.7849333882331848, 0.49658018350601196, 0.8405371904373169, 0.9267811179161072, 0.8506786823272705, 0.91245436668396, 0.969947338104248, 0.634015679359436, 0.8405371904373169, 0.5562137961387634, 0.3972955644130707, 0.6126342415809631, 0.8949754238128662, 0.9267811179161072, 0.8306918740272522, 0.5280793309211731, 0.5370243787765503, 0.928848922252655, 0.7701384425163269, 0.9267811179161072, 0.8247640132904053, 0.8405371904373169, 0.9851423501968384, 0.28368163108825684, 0.5673632621765137, 0.9487076997756958, 0.3619269132614136, 0.3619269132614136, 0.8679345846176147, 0.46751466393470764, 0.6236854791641235, 0.6236854791641235, 0.75127774477005, 0.8926464915275574, 0.9646754264831543, 0.9080800414085388, 0.5943619012832642, 0.39333003759384155, 0.39333003759384155, 0.5749260783195496, 0.9486080408096313, 0.5387002229690552, 0.9788036346435547, 0.8305612802505493, 0.8448631167411804, 0.8617625832557678, 0.6864078044891357, 0.5751587152481079, 0.9486080408096313, 0.9883226752281189, 0.759701669216156, 0.2532338798046112, 0.2205045521259308, 0.2205045521259308, 0.6615136861801147, 0.654807984828949, 0.9244349002838135, 0.9466010332107544, 0.5786118507385254, 0.43395888805389404, 0.6126333475112915, 0.5758559703826904, 0.41058945655822754, 0.41058945655822754, 0.8848933577537537, 0.6340160369873047, 0.8618296980857849, 0.9486244320869446, 0.4643886089324951, 0.4643886089324951, 0.7193638682365417, 0.9267811179161072, 0.8737770915031433, 0.9144255518913269, 0.9485981464385986, 0.6810499429702759, 0.6181337237358093, 0.9486021399497986, 0.7430117130279541, 0.7505965828895569, 0.912346601486206, 0.4197477698326111, 0.4197477698326111, 0.20987388491630554, 0.514411449432373, 0.6178640723228455, 0.567941427230835, 0.9403783082962036, 0.2119527906179428, 0.4239055812358856, 0.4239055812358856, 0.8926464915275574, 0.6340164542198181, 0.8247643113136292, 0.7205490469932556, 0.4644368290901184, 0.4644368290901184, 0.7568356394767761, 0.9383875727653503, 0.8765078783035278, 0.5671883821487427, 0.750482439994812, 0.8621442914009094, 0.6596665978431702, 0.6947785019874573, 0.7428750991821289, 0.9286206960678101, 0.5942801833152771, 0.6340371370315552, 0.6547635197639465, 0.9532316327095032, 0.948600172996521, 0.8617604374885559, 0.44092851877212524, 0.44092851877212524, 0.7568411827087402, 0.9486244320869446, 0.5805090665817261, 0.9145470261573792, 0.8617647886276245, 0.8617604374885559, 0.7259168028831482, 0.5748956799507141, 0.443202406167984, 0.861764669418335, 0.7326605916023254, 0.9699499011039734, 0.6810634136199951, 0.861764669418335, 0.6882416605949402, 0.756838321685791, 0.8309889435768127, 0.5747241973876953, 0.9427098035812378, 0.6411658525466919, 0.948600172996521, 0.28535568714141846, 0.28535568714141846, 0.28535568714141846, 0.5515402555465698, 0.6178740859031677, 0.6340171694755554, 0.770068347454071, 0.5581225156784058], \"Term\": [\"acquisition\", \"action\", \"agitation\", \"aiadmk\", \"airlift\", \"amarind\", \"answer\", \"attack\", \"attempt\", \"avni\", \"bait\", \"battle\", \"bavdhan\", \"bengal\", \"bid\", \"bjp\", \"bmc\", \"boat\", \"body\", \"border\", \"bulandshahr\", \"cage\", \"cannon\", \"capital\", \"cat\", \"cauvery\", \"centre\", \"city\", \"claim\", \"cm\", \"coal\", \"coast\", \"community\", \"conflict\", \"congress\", \"conspiracy\", \"construction\", \"court\", \"cow\", \"crisis\", \"crop\", \"crop\", \"dam\", \"data\", \"day\", \"death\", \"debt\", \"delhi\", \"demand\", \"dept\", \"development\", \"die\", \"distress\", \"diver\", \"drought\", \"eater\", \"effort\", \"effort\", \"elephant\", \"encroachment\", \"eviction\", \"expert\", \"farm\", \"flood\", \"forest\", \"gas\", \"ghaziabad\", \"goa\", \"goat\", \"government\", \"govt\", \"govt\", \"guard\", \"gujarat\", \"gujarat\", \"highway\", \"hold\", \"hole\", \"hole\", \"hunt\", \"incident\", \"india\", \"issue\", \"karnataka\", \"kerala\", \"kerala\", \"killing\", \"koli\", \"kranti\", \"land\", \"law\", \"leopard\", \"letter\", \"livestock\", \"loan\", \"loggerhead\", \"maharashtra\", \"man\", \"man\", \"march\", \"march\", \"march\", \"meet\", \"meghalaya\", \"mine\", \"miner\", \"miner\", \"mining\", \"minister\", \"modi\", \"modi\", \"monk\", \"mp\", \"mps\", \"ms\", \"mumbai\", \"mumbai\", \"news\", \"notice\", \"official\", \"onion\", \"pala\", \"parliament\", \"party\", \"pawar\", \"people\", \"plantation\", \"plight\", \"police\", \"police\", \"police\", \"power\", \"price\", \"project\", \"promise\", \"protest\", \"protest\", \"protest\", \"pump\", \"question\", \"rain\", \"rally\", \"rat\", \"rat\", \"refinery\", \"resident\", \"ride\", \"river\", \"road\", \"row\", \"rs\", \"rupani\", \"sand\", \"serviceman\", \"session\", \"skull\", \"slam\", \"slaughter\", \"smash\", \"spring\", \"state\", \"state\", \"stir\", \"support\", \"tamil\", \"team\", \"ten\", \"tide\", \"tiger\", \"tigress\", \"today\", \"tower\", \"trader\", \"tragedy\", \"train\", \"transmission\", \"trap\", \"tribal\", \"victory\", \"villager\", \"violence\", \"waiver\", \"walayar\", \"water\", \"water\", \"water\", \"woman\", \"worker\", \"year\", \"\\u2019\", \"\\u2019s\"]}, \"R\": 30, \"lambda.step\": 0.01, \"plot.opts\": {\"xlab\": \"PC1\", \"ylab\": \"PC2\"}, \"topic.order\": [5, 1, 3, 4, 2, 6]};\n",
       "\n",
       "function LDAvis_load_lib(url, callback){\n",
       "  var s = document.createElement('script');\n",
       "  s.src = url;\n",
       "  s.async = true;\n",
       "  s.onreadystatechange = s.onload = callback;\n",
       "  s.onerror = function(){console.warn(\"failed to load library \" + url);};\n",
       "  document.getElementsByTagName(\"head\")[0].appendChild(s);\n",
       "}\n",
       "\n",
       "if(typeof(LDAvis) !== \"undefined\"){\n",
       "   // already loaded: just create the visualization\n",
       "   !function(LDAvis){\n",
       "       new LDAvis(\"#\" + \"ldavis_el3570150341388643160691815\", ldavis_el3570150341388643160691815_data);\n",
       "   }(LDAvis);\n",
       "}else if(typeof define === \"function\" && define.amd){\n",
       "   // require.js is available: use it to load d3/LDAvis\n",
       "   require.config({paths: {d3: \"https://cdnjs.cloudflare.com/ajax/libs/d3/3.5.5/d3.min\"}});\n",
       "   require([\"d3\"], function(d3){\n",
       "      window.d3 = d3;\n",
       "      LDAvis_load_lib(\"https://cdn.rawgit.com/bmabey/pyLDAvis/files/ldavis.v1.0.0.js\", function(){\n",
       "        new LDAvis(\"#\" + \"ldavis_el3570150341388643160691815\", ldavis_el3570150341388643160691815_data);\n",
       "      });\n",
       "    });\n",
       "}else{\n",
       "    // require.js not available: dynamically load d3 & LDAvis\n",
       "    LDAvis_load_lib(\"https://cdnjs.cloudflare.com/ajax/libs/d3/3.5.5/d3.min.js\", function(){\n",
       "         LDAvis_load_lib(\"https://cdn.rawgit.com/bmabey/pyLDAvis/files/ldavis.v1.0.0.js\", function(){\n",
       "                 new LDAvis(\"#\" + \"ldavis_el3570150341388643160691815\", ldavis_el3570150341388643160691815_data);\n",
       "            })\n",
       "         });\n",
       "}\n",
       "</script>"
      ],
      "text/plain": [
       "PreparedData(topic_coordinates=              x         y  topics  cluster       Freq\n",
       "topic                                                \n",
       "4     -0.114255  0.054124       1        1  25.240410\n",
       "0      0.071439 -0.225082       2        1  21.842049\n",
       "2      0.232480  0.113542       3        1  14.310525\n",
       "3     -0.048739 -0.000696       4        1  13.216758\n",
       "1     -0.076697  0.034807       5        1  12.942335\n",
       "5     -0.064228  0.023304       6        1  12.447930, topic_info=    Category       Freq         Term      Total  loglift  logprob\n",
       "26   Default  13.000000        india  13.000000  30.0000  30.0000\n",
       "36   Default  10.000000         land  10.000000  29.0000  29.0000\n",
       "130  Default   9.000000  maharashtra   9.000000  28.0000  28.0000\n",
       "85   Default   9.000000  acquisition   9.000000  27.0000  27.0000\n",
       "35   Default  14.000000     violence  14.000000  26.0000  26.0000\n",
       "..       ...        ...          ...        ...      ...      ...\n",
       "29    Topic6   0.809691        state   2.267941   1.0536  -4.9409\n",
       "8     Topic6   0.687496           ’s   1.791721   1.1257  -5.1045\n",
       "347   Topic6   0.517735         hole   1.603372   0.9532  -5.3881\n",
       "349   Topic6   0.517707          rat   2.153145   0.6583  -5.3882\n",
       "315   Topic6   0.517486       mumbai   2.153369   0.6578  -5.3886\n",
       "\n",
       "[252 rows x 6 columns], token_table=      Topic      Freq         Term\n",
       "term                              \n",
       "85        5  0.972591  acquisition\n",
       "200       6  0.583794       action\n",
       "283       2  0.750579    agitation\n",
       "486       4  0.594989       aiadmk\n",
       "513       2  0.892646      airlift\n",
       "...     ...       ...          ...\n",
       "53        4  0.551540        woman\n",
       "145       2  0.617874       worker\n",
       "153       1  0.634017         year\n",
       "73        2  0.770068            ’\n",
       "8         6  0.558123           ’s\n",
       "\n",
       "[191 rows x 3 columns], R=30, lambda_step=0.01, plot_opts={'xlab': 'PC1', 'ylab': 'PC2'}, topic_order=[5, 1, 3, 4, 2, 6])"
      ]
     },
     "execution_count": 16,
     "metadata": {},
     "output_type": "execute_result"
    }
   ],
   "source": [
    "pyLDAvis.enable_notebook()\n",
    "topic_to_show = 6\n",
    "visualization = pyLDAvis.gensim.prepare(lda_dict['all_models'][topic_to_show], lda_dict['corpus'], lda_dict['dictionary'])\n",
    "# pyLDAvis.save_html(visualization, 'lda_10.html')\n",
    "visualization"
   ]
  },
  {
   "cell_type": "code",
   "execution_count": 17,
   "metadata": {},
   "outputs": [],
   "source": [
    "def get_topics(lda_model):\n",
    "\ttopics = lda_model.print_topics()\n",
    "\tprint(\"~~~ Topics are:\")\n",
    "\tfor i in range(len(topics)):\n",
    "\t\tprint('Topic ',i)\n",
    "\t\tprint(topics[i][1])\n",
    "\t\tprint(' ')"
   ]
  },
  {
   "cell_type": "code",
   "execution_count": 18,
   "metadata": {},
   "outputs": [
    {
     "name": "stdout",
     "output_type": "stream",
     "text": [
      "~~~ Topics are:\n",
      "Topic  0\n",
      "0.050*\"mine\" + 0.042*\"encroachment\" + 0.041*\"meghalaya\" + 0.040*\"resident\" + 0.039*\"miner\" + 0.039*\"tragedy\" + 0.039*\"diver\" + 0.038*\"debt\" + 0.037*\"effort\" + 0.037*\"airlift\"\n",
      " \n",
      "Topic  1\n",
      "0.082*\"land\" + 0.074*\"acquisition\" + 0.073*\"government\" + 0.067*\"court\" + 0.022*\"march\" + 0.016*\"cm\" + 0.013*\"protest\" + 0.012*\"gujarat\" + 0.010*\"tamil\" + 0.010*\"demand\"\n",
      " \n",
      "Topic  2\n",
      "0.099*\"india\" + 0.045*\"coal\" + 0.043*\"miner\" + 0.041*\"leopard\" + 0.040*\"body\" + 0.040*\"highway\" + 0.039*\"monk\" + 0.037*\"forest\" + 0.037*\"effort\" + 0.037*\"serviceman\"\n",
      " \n",
      "Topic  3\n",
      "0.030*\"crisis\" + 0.019*\"water\" + 0.017*\"dam\" + 0.015*\"govt\" + 0.014*\"cauvery\" + 0.013*\"protest\" + 0.012*\"farm\" + 0.010*\"aiadmk\" + 0.010*\"construction\" + 0.009*\"session\"\n",
      " \n",
      "Topic  4\n",
      "0.062*\"violence\" + 0.053*\"slaughter\" + 0.045*\"team\" + 0.045*\"onion\" + 0.018*\"cow\" + 0.015*\"day\" + 0.015*\"bulandshahr\" + 0.012*\"man\" + 0.010*\"death\" + 0.009*\"bjp\"\n",
      " \n",
      "Topic  5\n",
      "0.076*\"maharashtra\" + 0.073*\"issue\" + 0.066*\"ride\" + 0.021*\"centre\" + 0.011*\"project\" + 0.011*\"river\" + 0.009*\"capital\" + 0.009*\"rs\" + 0.008*\"parliament\" + 0.008*\"train\"\n",
      " \n"
     ]
    }
   ],
   "source": [
    "get_topics(lda_dict['all_models'][topic_to_show])"
   ]
  },
  {
   "cell_type": "markdown",
   "metadata": {},
   "source": [
    "### LDA Multi-Level"
   ]
  },
  {
   "cell_type": "code",
   "execution_count": 18,
   "metadata": {},
   "outputs": [],
   "source": [
    "# print('*****************************************************')\n",
    "# print('- Starting model training')\n",
    "# lda_level_1, lda_level_2 = lda_model_multi_level(\n",
    "# \t\t\t\t\tlevel = specifications['level'],\n",
    "# \t\t\t\t\tdictionary = dictionary,\n",
    "# \t\t\t\t\tcorpus = corpus,\n",
    "# \t\t\t\t\tdoc_list = doc_list,\n",
    "# \t\t\t\t\tcoherence = specifications['coherence'],\n",
    "# \t\t\t\t\tdebug = specifications['debug'],\n",
    "# \t\t\t\t\tneed_best_topic = specifications['need_best_topic'],\n",
    "# \t\t\t\t\tmodel_selection_metric = specifications['model_selection_metric'],\n",
    "# \t\t\t\t\tnum_topics_list_level_1 = specifications['num_topics_list_level_1'], \n",
    "# \t\t\t\t\tnum_topics_list_level_2 = specifications['num_topics_list_level_2'], \n",
    "# \t\t\t\t\t)"
   ]
  },
  {
   "cell_type": "markdown",
   "metadata": {},
   "source": [
    "### Mallet LDA"
   ]
  },
  {
   "cell_type": "code",
   "execution_count": null,
   "metadata": {},
   "outputs": [],
   "source": [
    "# print('*****************************************************')\n",
    "# print('- Starting model training')\n",
    "# lda_dict = lda_mallet(\n",
    "# \t\t\t\t\tdictionary = dictionary,\n",
    "# \t\t\t\t\tcorpus = corpus,\n",
    "# \t\t\t\t\tdoc_list = doc_list,\n",
    "# \t\t\t\t\tnum_topics_list_level_1 = specifications['num_topics_list_level_1'], \n",
    "# \t\t\t\t\tcoherence = specifications['coherence'],\n",
    "# \t\t\t\t\tdebug = specifications['debug'],\n",
    "# \t\t\t\t\tneed_best_topic = specifications['need_best_topic'],\n",
    "# \t\t\t\t\tmodel_selection_metric = specifications['model_selection_metric']\n",
    "# \t\t\t\t\t)"
   ]
  },
  {
   "cell_type": "markdown",
   "metadata": {},
   "source": [
    "## Visualization"
   ]
  },
  {
   "cell_type": "markdown",
   "metadata": {},
   "source": [
    "### What is the Dominant topic and its percentage contribution in each document"
   ]
  },
  {
   "cell_type": "code",
   "execution_count": 23,
   "metadata": {},
   "outputs": [],
   "source": [
    "def format_topics_sentences(ldamodel=None, corpus=corpus, texts=doc_list):\n",
    "    # Init output\n",
    "    sent_topics_df = pd.DataFrame()\n",
    "\n",
    "    # Get main topic in each document\n",
    "    for i, row_list in enumerate(ldamodel[corpus]):\n",
    "        row = row_list[0] if ldamodel.per_word_topics else row_list            \n",
    "        # print(row)\n",
    "        row = sorted(row, key=lambda x: (x[1]), reverse=True)\n",
    "        # Get the Dominant topic, Perc Contribution and Keywords for each document\n",
    "        for j, (topic_num, prop_topic) in enumerate(row):\n",
    "            if j == 0:  # => dominant topic\n",
    "                wp = ldamodel.show_topic(topic_num)\n",
    "                topic_keywords = \", \".join([word for word, prop in wp])\n",
    "                sent_topics_df = sent_topics_df.append(pd.Series([int(topic_num), round(prop_topic,4), topic_keywords]), ignore_index=True)\n",
    "            else:\n",
    "                break\n",
    "    sent_topics_df.columns = ['Dominant_Topic', 'Perc_Contribution', 'Topic_Keywords']\n",
    "\n",
    "    # Add original text to the end of the output\n",
    "    contents = pd.Series(texts)\n",
    "    sent_topics_df = pd.concat([sent_topics_df, contents], axis=1)\n",
    "    return(sent_topics_df)"
   ]
  },
  {
   "cell_type": "code",
   "execution_count": 29,
   "metadata": {},
   "outputs": [
    {
     "data": {
      "text/html": [
       "<div>\n",
       "<style scoped>\n",
       "    .dataframe tbody tr th:only-of-type {\n",
       "        vertical-align: middle;\n",
       "    }\n",
       "\n",
       "    .dataframe tbody tr th {\n",
       "        vertical-align: top;\n",
       "    }\n",
       "\n",
       "    .dataframe thead th {\n",
       "        text-align: right;\n",
       "    }\n",
       "</style>\n",
       "<table border=\"1\" class=\"dataframe\">\n",
       "  <thead>\n",
       "    <tr style=\"text-align: right;\">\n",
       "      <th></th>\n",
       "      <th>Document_No</th>\n",
       "      <th>Dominant_Topic</th>\n",
       "      <th>Topic_Perc_Contrib</th>\n",
       "      <th>Keywords</th>\n",
       "      <th>Text</th>\n",
       "    </tr>\n",
       "  </thead>\n",
       "  <tbody>\n",
       "    <tr>\n",
       "      <td>0</td>\n",
       "      <td>0</td>\n",
       "      <td>5.0</td>\n",
       "      <td>0.9428</td>\n",
       "      <td>maharashtra, issue, ride, centre, project, riv...</td>\n",
       "      <td>[news, alert, maratha, reservation, bicycle, p...</td>\n",
       "    </tr>\n",
       "    <tr>\n",
       "      <td>1</td>\n",
       "      <td>1</td>\n",
       "      <td>0.0</td>\n",
       "      <td>0.9153</td>\n",
       "      <td>mine, encroachment, meghalaya, resident, miner...</td>\n",
       "      <td>[post, rain, plantation, sector, loss]</td>\n",
       "    </tr>\n",
       "    <tr>\n",
       "      <td>2</td>\n",
       "      <td>2</td>\n",
       "      <td>3.0</td>\n",
       "      <td>0.8755</td>\n",
       "      <td>crisis, water, dam, govt, cauvery, protest, fa...</td>\n",
       "      <td>[rajiv, gandhi, killer, govt]</td>\n",
       "    </tr>\n",
       "    <tr>\n",
       "      <td>3</td>\n",
       "      <td>3</td>\n",
       "      <td>2.0</td>\n",
       "      <td>0.5881</td>\n",
       "      <td>india, coal, miner, leopard, body, highway, mo...</td>\n",
       "      <td>[farm, policy, anvil]</td>\n",
       "    </tr>\n",
       "    <tr>\n",
       "      <td>4</td>\n",
       "      <td>4</td>\n",
       "      <td>4.0</td>\n",
       "      <td>0.8649</td>\n",
       "      <td>violence, slaughter, team, onion, cow, day, bu...</td>\n",
       "      <td>[cow, abattoir, khandwa]</td>\n",
       "    </tr>\n",
       "    <tr>\n",
       "      <td>5</td>\n",
       "      <td>5</td>\n",
       "      <td>2.0</td>\n",
       "      <td>0.9368</td>\n",
       "      <td>india, coal, miner, leopard, body, highway, mo...</td>\n",
       "      <td>[india, state, kerala, alert, flood, kill, dozen]</td>\n",
       "    </tr>\n",
       "    <tr>\n",
       "      <td>6</td>\n",
       "      <td>6</td>\n",
       "      <td>0.0</td>\n",
       "      <td>0.8970</td>\n",
       "      <td>mine, encroachment, meghalaya, resident, miner...</td>\n",
       "      <td>[parrikar, modi, ’s, goa]</td>\n",
       "    </tr>\n",
       "    <tr>\n",
       "      <td>7</td>\n",
       "      <td>7</td>\n",
       "      <td>3.0</td>\n",
       "      <td>0.7197</td>\n",
       "      <td>crisis, water, dam, govt, cauvery, protest, fa...</td>\n",
       "      <td>[bandh, violence, protest, maratha, reservation]</td>\n",
       "    </tr>\n",
       "    <tr>\n",
       "      <td>8</td>\n",
       "      <td>8</td>\n",
       "      <td>3.0</td>\n",
       "      <td>0.5642</td>\n",
       "      <td>crisis, water, dam, govt, cauvery, protest, fa...</td>\n",
       "      <td>[panel, land, scam]</td>\n",
       "    </tr>\n",
       "    <tr>\n",
       "      <td>9</td>\n",
       "      <td>9</td>\n",
       "      <td>0.0</td>\n",
       "      <td>0.8970</td>\n",
       "      <td>mine, encroachment, meghalaya, resident, miner...</td>\n",
       "      <td>[hindus, encroachment, cremation, site]</td>\n",
       "    </tr>\n",
       "  </tbody>\n",
       "</table>\n",
       "</div>"
      ],
      "text/plain": [
       "   Document_No  Dominant_Topic  Topic_Perc_Contrib  \\\n",
       "0            0             5.0              0.9428   \n",
       "1            1             0.0              0.9153   \n",
       "2            2             3.0              0.8755   \n",
       "3            3             2.0              0.5881   \n",
       "4            4             4.0              0.8649   \n",
       "5            5             2.0              0.9368   \n",
       "6            6             0.0              0.8970   \n",
       "7            7             3.0              0.7197   \n",
       "8            8             3.0              0.5642   \n",
       "9            9             0.0              0.8970   \n",
       "\n",
       "                                            Keywords  \\\n",
       "0  maharashtra, issue, ride, centre, project, riv...   \n",
       "1  mine, encroachment, meghalaya, resident, miner...   \n",
       "2  crisis, water, dam, govt, cauvery, protest, fa...   \n",
       "3  india, coal, miner, leopard, body, highway, mo...   \n",
       "4  violence, slaughter, team, onion, cow, day, bu...   \n",
       "5  india, coal, miner, leopard, body, highway, mo...   \n",
       "6  mine, encroachment, meghalaya, resident, miner...   \n",
       "7  crisis, water, dam, govt, cauvery, protest, fa...   \n",
       "8  crisis, water, dam, govt, cauvery, protest, fa...   \n",
       "9  mine, encroachment, meghalaya, resident, miner...   \n",
       "\n",
       "                                                Text  \n",
       "0  [news, alert, maratha, reservation, bicycle, p...  \n",
       "1             [post, rain, plantation, sector, loss]  \n",
       "2                      [rajiv, gandhi, killer, govt]  \n",
       "3                              [farm, policy, anvil]  \n",
       "4                           [cow, abattoir, khandwa]  \n",
       "5  [india, state, kerala, alert, flood, kill, dozen]  \n",
       "6                          [parrikar, modi, ’s, goa]  \n",
       "7   [bandh, violence, protest, maratha, reservation]  \n",
       "8                                [panel, land, scam]  \n",
       "9            [hindus, encroachment, cremation, site]  "
      ]
     },
     "execution_count": 29,
     "metadata": {},
     "output_type": "execute_result"
    }
   ],
   "source": [
    "df_topic_sents_keywords = format_topics_sentences(ldamodel=lda_dict['all_models'][topic_to_show], corpus=corpus, texts=doc_list)\n",
    "# Format\n",
    "df_dominant_topic = df_topic_sents_keywords.reset_index()\n",
    "df_dominant_topic.columns = ['Document_No', 'Dominant_Topic', 'Topic_Perc_Contrib', 'Keywords', 'Text']\n",
    "df_dominant_topic.head(10)"
   ]
  },
  {
   "cell_type": "markdown",
   "metadata": {},
   "source": [
    "### The most representative sentence for each topic"
   ]
  },
  {
   "cell_type": "code",
   "execution_count": 30,
   "metadata": {},
   "outputs": [
    {
     "data": {
      "text/html": [
       "<div>\n",
       "<style scoped>\n",
       "    .dataframe tbody tr th:only-of-type {\n",
       "        vertical-align: middle;\n",
       "    }\n",
       "\n",
       "    .dataframe tbody tr th {\n",
       "        vertical-align: top;\n",
       "    }\n",
       "\n",
       "    .dataframe thead th {\n",
       "        text-align: right;\n",
       "    }\n",
       "</style>\n",
       "<table border=\"1\" class=\"dataframe\">\n",
       "  <thead>\n",
       "    <tr style=\"text-align: right;\">\n",
       "      <th></th>\n",
       "      <th>Topic_Num</th>\n",
       "      <th>Topic_Perc_Contrib</th>\n",
       "      <th>Keywords</th>\n",
       "      <th>Representative Text</th>\n",
       "    </tr>\n",
       "  </thead>\n",
       "  <tbody>\n",
       "    <tr>\n",
       "      <td>0</td>\n",
       "      <td>0.0</td>\n",
       "      <td>0.9505</td>\n",
       "      <td>mine, encroachment, meghalaya, resident, miner, tragedy, diver, debt, effort, airlift</td>\n",
       "      <td>[meghalaya, mine, tragedy, diver, airlift, pump, effort, miner, incident]</td>\n",
       "    </tr>\n",
       "    <tr>\n",
       "      <td>1</td>\n",
       "      <td>1.0</td>\n",
       "      <td>0.9269</td>\n",
       "      <td>land, acquisition, government, court, march, cm, protest, gujarat, tamil, demand</td>\n",
       "      <td>[tamil, government, land, acquisition, law, court, order]</td>\n",
       "    </tr>\n",
       "    <tr>\n",
       "      <td>2</td>\n",
       "      <td>2.0</td>\n",
       "      <td>0.9368</td>\n",
       "      <td>india, coal, miner, leopard, body, highway, monk, forest, effort, serviceman</td>\n",
       "      <td>[india, state, kerala, alert, flood, kill, dozen]</td>\n",
       "    </tr>\n",
       "    <tr>\n",
       "      <td>3</td>\n",
       "      <td>3.0</td>\n",
       "      <td>0.9505</td>\n",
       "      <td>crisis, water, dam, govt, cauvery, protest, farm, aiadmk, construction, session</td>\n",
       "      <td>[shah, mehmood, meet, bank, stress, arbitration, resolution, indo, pak, water, dispute]</td>\n",
       "    </tr>\n",
       "    <tr>\n",
       "      <td>4</td>\n",
       "      <td>4.0</td>\n",
       "      <td>0.9491</td>\n",
       "      <td>violence, slaughter, team, onion, cow, day, bulandshahr, man, death, bjp</td>\n",
       "      <td>[man, bait, man, eater, goat, dept, official, cage, cat]</td>\n",
       "    </tr>\n",
       "    <tr>\n",
       "      <td>5</td>\n",
       "      <td>5.0</td>\n",
       "      <td>0.9428</td>\n",
       "      <td>maharashtra, issue, ride, centre, project, river, capital, rs, parliament, train</td>\n",
       "      <td>[news, alert, maratha, reservation, bicycle, protester, pune, ’s, kothrud]</td>\n",
       "    </tr>\n",
       "  </tbody>\n",
       "</table>\n",
       "</div>"
      ],
      "text/plain": [
       "   Topic_Num  Topic_Perc_Contrib  \\\n",
       "0        0.0              0.9505   \n",
       "1        1.0              0.9269   \n",
       "2        2.0              0.9368   \n",
       "3        3.0              0.9505   \n",
       "4        4.0              0.9491   \n",
       "5        5.0              0.9428   \n",
       "\n",
       "                                                                                Keywords  \\\n",
       "0  mine, encroachment, meghalaya, resident, miner, tragedy, diver, debt, effort, airlift   \n",
       "1       land, acquisition, government, court, march, cm, protest, gujarat, tamil, demand   \n",
       "2           india, coal, miner, leopard, body, highway, monk, forest, effort, serviceman   \n",
       "3        crisis, water, dam, govt, cauvery, protest, farm, aiadmk, construction, session   \n",
       "4               violence, slaughter, team, onion, cow, day, bulandshahr, man, death, bjp   \n",
       "5       maharashtra, issue, ride, centre, project, river, capital, rs, parliament, train   \n",
       "\n",
       "                                                                       Representative Text  \n",
       "0                [meghalaya, mine, tragedy, diver, airlift, pump, effort, miner, incident]  \n",
       "1                                [tamil, government, land, acquisition, law, court, order]  \n",
       "2                                        [india, state, kerala, alert, flood, kill, dozen]  \n",
       "3  [shah, mehmood, meet, bank, stress, arbitration, resolution, indo, pak, water, dispute]  \n",
       "4                                 [man, bait, man, eater, goat, dept, official, cage, cat]  \n",
       "5               [news, alert, maratha, reservation, bicycle, protester, pune, ’s, kothrud]  "
      ]
     },
     "execution_count": 30,
     "metadata": {},
     "output_type": "execute_result"
    }
   ],
   "source": [
    "# Display setting to show more characters in column\n",
    "pd.options.display.max_colwidth = 100\n",
    "\n",
    "sent_topics_sorteddf_mallet = pd.DataFrame()\n",
    "sent_topics_outdf_grpd = df_topic_sents_keywords.groupby('Dominant_Topic')\n",
    "\n",
    "for i, grp in sent_topics_outdf_grpd:\n",
    "    sent_topics_sorteddf_mallet = pd.concat([sent_topics_sorteddf_mallet, \n",
    "                                             grp.sort_values(['Perc_Contribution'], ascending=False).head(1)], \n",
    "                                            axis=0)\n",
    "\n",
    "# Reset Index    \n",
    "sent_topics_sorteddf_mallet.reset_index(drop=True, inplace=True)\n",
    "\n",
    "# Format\n",
    "sent_topics_sorteddf_mallet.columns = ['Topic_Num', \"Topic_Perc_Contrib\", \"Keywords\", \"Representative Text\"]\n",
    "\n",
    "# Show\n",
    "sent_topics_sorteddf_mallet.head(10)"
   ]
  },
  {
   "cell_type": "code",
   "execution_count": null,
   "metadata": {},
   "outputs": [],
   "source": []
  }
 ],
 "metadata": {
  "kernelspec": {
   "display_name": "Python 3",
   "language": "python",
   "name": "python3"
  },
  "language_info": {
   "codemirror_mode": {
    "name": "ipython",
    "version": 3
   },
   "file_extension": ".py",
   "mimetype": "text/x-python",
   "name": "python",
   "nbconvert_exporter": "python",
   "pygments_lexer": "ipython3",
   "version": "3.6.6"
  }
 },
 "nbformat": 4,
 "nbformat_minor": 2
}
